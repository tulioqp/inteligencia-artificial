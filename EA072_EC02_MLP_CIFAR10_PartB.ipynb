{
 "cells": [
  {
   "cell_type": "markdown",
   "metadata": {
    "id": "xMsNyA3WPrER"
   },
   "source": [
    "# **Notebook EC#02 (Part B)**\n",
    "# MLP classifier for the CIFAR-10 database.\n",
    "#### Simplified grid search for the hyperparameters.\n",
    "**Professor:** Fernando J. Von Zuben <br>\n",
    "**Aluno(a):** Túlio Queiroz de Paula"
   ]
  },
  {
   "cell_type": "code",
   "execution_count": 2,
   "metadata": {
    "id": "feKIgQlnaT7U"
   },
   "outputs": [],
   "source": [
    "import matplotlib.pyplot as plt\n",
    "from tqdm.notebook import tqdm\n",
    "import tensorflow as tf\n",
    "import pandas as pd\n",
    "import numpy as np\n",
    "import os\n",
    "import gc\n",
    "\n",
    "cifar10 = tf.keras.datasets.cifar10\n",
    "\n",
    "(x_train, y_train),(x_test, y_test) = cifar10.load_data()\n",
    "x_train, x_test = x_train / 255.0, x_test / 255.0"
   ]
  },
  {
   "cell_type": "code",
   "execution_count": 3,
   "metadata": {
    "id": "MH_I88sRYMQR"
   },
   "outputs": [],
   "source": [
    "def model_and_evaluate(n_neurons = 1024,\n",
    "                       n_layers  = 1,\n",
    "                       dropout   = 0.25,\n",
    "                       epochs    = 10,\n",
    "                       optimizer = 'adam',\n",
    "                       verbose   = 1):\n",
    "    gc.collect()\n",
    "    tf.keras.backend.clear_session()\n",
    "\n",
    "    model = tf.keras.models.Sequential([\n",
    "          tf.keras.layers.Flatten(),\n",
    "          tf.keras.layers.Dense(n_neurons,activation=tf.nn.relu),\n",
    "          tf.keras.layers.Dropout(dropout)])\n",
    "\n",
    "    if n_layers > 1:\n",
    "        for _ in range(n_layers-1):\n",
    "            model.add(tf.keras.layers.Dense(n_neurons,activation=tf.nn.relu))\n",
    "            model.add(tf.keras.layers.Dropout(dropout))\n",
    "\n",
    "    model.add(tf.keras.layers.Dense(10, activation=tf.nn.softmax))\n",
    "    model.compile(optimizer=optimizer,\n",
    "                  loss='sparse_categorical_crossentropy',\n",
    "                  metrics=['accuracy'])\n",
    "\n",
    "    model.fit(x_train, y_train, epochs=epochs, verbose=verbose)\n",
    "\n",
    "    loss, accuracy = model.evaluate(x_test, y_test,verbose=verbose)\n",
    "\n",
    "    if verbose:\n",
    "        model.summary()\n",
    "        # Evaluate the model on the test data using `evaluate`\n",
    "        print(\"Evaluate on test data\")\n",
    "        print(\"test loss, test acc:\", loss, accuracy)\n",
    "\n",
    "    train_result = dict(n_neurons = n_neurons,\n",
    "                        n_layers  = n_layers,\n",
    "                        optimizer = optimizer,\n",
    "                        dropout   = dropout,\n",
    "                        epochs    = epochs,\n",
    "                        loss      = loss,\n",
    "                        accuracy  = accuracy)\n",
    "    return loss, accuracy"
   ]
  },
  {
   "cell_type": "code",
   "execution_count": 4,
   "metadata": {
    "id": "YdFzu9J-WgWO"
   },
   "outputs": [],
   "source": [
    "n_repetitions = 5\n",
    "DEFAULT = {\n",
    "    'n_neurons' : 1024,\n",
    "    'n_layers'  : 1,\n",
    "    'dropout'   : 0.25,\n",
    "    'epochs'    : 10,\n",
    "    'optimizer' : 'adam'\n",
    "}\n",
    "\n",
    "df = pd.DataFrame(columns=['n_neurons', 'n_layers', 'dropout', 'epochs','optimizer'] + \\\n",
    "                          [f\"{metric} {iteration}\" for iteration in range(1, n_repetitions+1) for metric in ['loss', 'accuracy']])"
   ]
  },
  {
   "cell_type": "code",
   "execution_count": 5,
   "metadata": {
    "id": "_gnl-yKziHBk"
   },
   "outputs": [
    {
     "data": {
      "application/vnd.jupyter.widget-view+json": {
       "model_id": "871484cb74de4cf5a534acee241860d7",
       "version_major": 2,
       "version_minor": 0
      },
      "text/plain": [
       "  0%|          | 0/5 [00:00<?, ?it/s]"
      ]
     },
     "metadata": {},
     "output_type": "display_data"
    }
   ],
   "source": [
    "args = DEFAULT.copy()\n",
    "row = list(args.values())\n",
    "for iter in tqdm(range(n_repetitions)):\n",
    "        loss, accuracy = model_and_evaluate(verbose=0)\n",
    "\n",
    "        row.append(loss)\n",
    "        row.append(accuracy)\n",
    "df.loc[0] = row"
   ]
  },
  {
   "cell_type": "code",
   "execution_count": 6,
   "metadata": {
    "id": "xZ-lbPruWgWO"
   },
   "outputs": [
    {
     "data": {
      "application/vnd.jupyter.widget-view+json": {
       "model_id": "3f477a5463234b09a712fb8d7e8a1bb3",
       "version_major": 2,
       "version_minor": 0
      },
      "text/plain": [
       "  0%|          | 0/5 [00:00<?, ?it/s]"
      ]
     },
     "metadata": {},
     "output_type": "display_data"
    },
    {
     "data": {
      "application/vnd.jupyter.widget-view+json": {
       "model_id": "7d846d17a1974ca0a29056d48659cb9e",
       "version_major": 2,
       "version_minor": 0
      },
      "text/plain": [
       "  0%|          | 0/5 [00:00<?, ?it/s]"
      ]
     },
     "metadata": {},
     "output_type": "display_data"
    },
    {
     "data": {
      "application/vnd.jupyter.widget-view+json": {
       "model_id": "d570698acb96431289ee910ed0906e1c",
       "version_major": 2,
       "version_minor": 0
      },
      "text/plain": [
       "  0%|          | 0/5 [00:00<?, ?it/s]"
      ]
     },
     "metadata": {},
     "output_type": "display_data"
    }
   ],
   "source": [
    "for n_neurons in [512, 2048, 4096]:\n",
    "    args = DEFAULT.copy()\n",
    "    args['n_neurons'] = n_neurons\n",
    "\n",
    "    row = list(args.values())\n",
    "\n",
    "    for iter in tqdm(range(n_repetitions)):\n",
    "        loss, accuracy = model_and_evaluate(n_neurons=n_neurons, verbose=0)\n",
    "\n",
    "        row.append(loss)\n",
    "        row.append(accuracy)\n",
    "\n",
    "    df.loc[f'n_neurons={n_neurons}'] = row\n"
   ]
  },
  {
   "cell_type": "code",
   "execution_count": 7,
   "metadata": {
    "id": "42sb--VnWgWP"
   },
   "outputs": [
    {
     "data": {
      "application/vnd.jupyter.widget-view+json": {
       "model_id": "07f95537bc1a4abf9a28cba0e6018144",
       "version_major": 2,
       "version_minor": 0
      },
      "text/plain": [
       "  0%|          | 0/5 [00:00<?, ?it/s]"
      ]
     },
     "metadata": {},
     "output_type": "display_data"
    },
    {
     "data": {
      "application/vnd.jupyter.widget-view+json": {
       "model_id": "56d40078ba9147d1be5016cc7a365cfe",
       "version_major": 2,
       "version_minor": 0
      },
      "text/plain": [
       "  0%|          | 0/5 [00:00<?, ?it/s]"
      ]
     },
     "metadata": {},
     "output_type": "display_data"
    }
   ],
   "source": [
    "for n_layers in [2, 3]:\n",
    "    args = DEFAULT.copy()\n",
    "    args['n_layers'] = n_layers\n",
    "\n",
    "    row = list(args.values())\n",
    "\n",
    "    for iter in tqdm(range(n_repetitions)):\n",
    "        loss, accuracy = model_and_evaluate(n_layers=n_layers, verbose=0)\n",
    "\n",
    "        row.append(loss)\n",
    "        row.append(accuracy)\n",
    "\n",
    "    df.loc[f'n_layers={n_layers}'] = row"
   ]
  },
  {
   "cell_type": "code",
   "execution_count": 8,
   "metadata": {
    "id": "-DPXsJa1WgWP"
   },
   "outputs": [
    {
     "data": {
      "application/vnd.jupyter.widget-view+json": {
       "model_id": "2319321aedf248248dc0dc6779b85910",
       "version_major": 2,
       "version_minor": 0
      },
      "text/plain": [
       "  0%|          | 0/5 [00:00<?, ?it/s]"
      ]
     },
     "metadata": {},
     "output_type": "display_data"
    },
    {
     "data": {
      "application/vnd.jupyter.widget-view+json": {
       "model_id": "6169f56da516430f9ed0874926bcd59e",
       "version_major": 2,
       "version_minor": 0
      },
      "text/plain": [
       "  0%|          | 0/5 [00:00<?, ?it/s]"
      ]
     },
     "metadata": {},
     "output_type": "display_data"
    }
   ],
   "source": [
    "for dropout in [0, 0.5]:\n",
    "    args = DEFAULT.copy()\n",
    "    args['dropout'] = dropout\n",
    "\n",
    "    row = list(args.values())\n",
    "\n",
    "    for iter in tqdm(range(n_repetitions)):\n",
    "        loss, accuracy = model_and_evaluate(dropout=dropout, verbose=0)\n",
    "\n",
    "        row.append(loss)\n",
    "        row.append(accuracy)\n",
    "\n",
    "    df.loc[f'dropout={dropout}'] = row"
   ]
  },
  {
   "cell_type": "code",
   "execution_count": 9,
   "metadata": {
    "id": "g7sL1VTbWgWQ"
   },
   "outputs": [
    {
     "data": {
      "application/vnd.jupyter.widget-view+json": {
       "model_id": "13615d445ed74309bc9fd193f58603f5",
       "version_major": 2,
       "version_minor": 0
      },
      "text/plain": [
       "  0%|          | 0/5 [00:00<?, ?it/s]"
      ]
     },
     "metadata": {},
     "output_type": "display_data"
    },
    {
     "data": {
      "application/vnd.jupyter.widget-view+json": {
       "model_id": "5ea70858f56d49d2809e1f262a6be6fc",
       "version_major": 2,
       "version_minor": 0
      },
      "text/plain": [
       "  0%|          | 0/5 [00:00<?, ?it/s]"
      ]
     },
     "metadata": {},
     "output_type": "display_data"
    }
   ],
   "source": [
    "for optimizer in ['RMSprop', 'SGD']:\n",
    "    args = DEFAULT.copy()\n",
    "    args['optimizer'] = optimizer\n",
    "\n",
    "    row = list(args.values())\n",
    "\n",
    "    for iter in tqdm(range(n_repetitions)):\n",
    "        loss, accuracy = model_and_evaluate(optimizer=optimizer, verbose=0)\n",
    "\n",
    "        row.append(loss)\n",
    "        row.append(accuracy)\n",
    "\n",
    "    df.loc[f'optimizer={optimizer}'] = row"
   ]
  },
  {
   "cell_type": "code",
   "execution_count": 10,
   "metadata": {
    "id": "UjqkU0jSWgWQ"
   },
   "outputs": [
    {
     "data": {
      "application/vnd.jupyter.widget-view+json": {
       "model_id": "1688d6186cf4439da4ee7773b7de25f6",
       "version_major": 2,
       "version_minor": 0
      },
      "text/plain": [
       "  0%|          | 0/5 [00:00<?, ?it/s]"
      ]
     },
     "metadata": {},
     "output_type": "display_data"
    },
    {
     "data": {
      "application/vnd.jupyter.widget-view+json": {
       "model_id": "58949afce74b496187ac67defc50b16b",
       "version_major": 2,
       "version_minor": 0
      },
      "text/plain": [
       "  0%|          | 0/5 [00:00<?, ?it/s]"
      ]
     },
     "metadata": {},
     "output_type": "display_data"
    },
    {
     "data": {
      "application/vnd.jupyter.widget-view+json": {
       "model_id": "056933dafe794751a3482a771db5b247",
       "version_major": 2,
       "version_minor": 0
      },
      "text/plain": [
       "  0%|          | 0/5 [00:00<?, ?it/s]"
      ]
     },
     "metadata": {},
     "output_type": "display_data"
    }
   ],
   "source": [
    "for epochs in [5, 20, 30]:\n",
    "    args = DEFAULT.copy()\n",
    "    args['epochs'] = epochs\n",
    "\n",
    "    row = list(args.values())\n",
    "\n",
    "    for iter in tqdm(range(n_repetitions)):\n",
    "        loss, accuracy = model_and_evaluate(epochs=epochs, verbose=0)\n",
    "\n",
    "        row.append(loss)\n",
    "        row.append(accuracy)\n",
    "\n",
    "    df.loc[f'epochs={epochs}'] = row"
   ]
  },
  {
   "cell_type": "code",
   "execution_count": 24,
   "metadata": {
    "id": "fwjImmahSJV6",
    "scrolled": true
   },
   "outputs": [],
   "source": [
    "df.to_csv('cifar10_EC02_MLP_analysis.csv',index=False)\n",
    "# df.head()"
   ]
  },
  {
   "cell_type": "code",
   "execution_count": 12,
   "metadata": {
    "id": "KEElqZwZfBYj"
   },
   "outputs": [
    {
     "data": {
      "text/html": [
       "<div>\n",
       "<style scoped>\n",
       "    .dataframe tbody tr th:only-of-type {\n",
       "        vertical-align: middle;\n",
       "    }\n",
       "\n",
       "    .dataframe tbody tr th {\n",
       "        vertical-align: top;\n",
       "    }\n",
       "\n",
       "    .dataframe thead th {\n",
       "        text-align: right;\n",
       "    }\n",
       "</style>\n",
       "<table border=\"1\" class=\"dataframe\">\n",
       "  <thead>\n",
       "    <tr style=\"text-align: right;\">\n",
       "      <th></th>\n",
       "      <th>n_neurons</th>\n",
       "      <th>n_layers</th>\n",
       "      <th>dropout</th>\n",
       "      <th>epochs</th>\n",
       "      <th>optimizer</th>\n",
       "      <th>loss 1</th>\n",
       "      <th>accuracy 1</th>\n",
       "      <th>loss 2</th>\n",
       "      <th>accuracy 2</th>\n",
       "      <th>loss 3</th>\n",
       "      <th>accuracy 3</th>\n",
       "      <th>loss 4</th>\n",
       "      <th>accuracy 4</th>\n",
       "      <th>loss 5</th>\n",
       "      <th>accuracy 5</th>\n",
       "    </tr>\n",
       "  </thead>\n",
       "  <tbody>\n",
       "    <tr>\n",
       "      <th>0</th>\n",
       "      <td>1024</td>\n",
       "      <td>1</td>\n",
       "      <td>0.25</td>\n",
       "      <td>10</td>\n",
       "      <td>adam</td>\n",
       "      <td>1.615170</td>\n",
       "      <td>0.4131</td>\n",
       "      <td>1.599568</td>\n",
       "      <td>0.4287</td>\n",
       "      <td>1.593696</td>\n",
       "      <td>0.4370</td>\n",
       "      <td>1.601617</td>\n",
       "      <td>0.4292</td>\n",
       "      <td>1.592294</td>\n",
       "      <td>0.4375</td>\n",
       "    </tr>\n",
       "    <tr>\n",
       "      <th>1</th>\n",
       "      <td>512</td>\n",
       "      <td>1</td>\n",
       "      <td>0.25</td>\n",
       "      <td>10</td>\n",
       "      <td>adam</td>\n",
       "      <td>1.651963</td>\n",
       "      <td>0.4034</td>\n",
       "      <td>1.650095</td>\n",
       "      <td>0.4072</td>\n",
       "      <td>1.634080</td>\n",
       "      <td>0.4192</td>\n",
       "      <td>1.659325</td>\n",
       "      <td>0.4057</td>\n",
       "      <td>1.646762</td>\n",
       "      <td>0.4063</td>\n",
       "    </tr>\n",
       "    <tr>\n",
       "      <th>2</th>\n",
       "      <td>2048</td>\n",
       "      <td>1</td>\n",
       "      <td>0.25</td>\n",
       "      <td>10</td>\n",
       "      <td>adam</td>\n",
       "      <td>1.571110</td>\n",
       "      <td>0.4424</td>\n",
       "      <td>1.548071</td>\n",
       "      <td>0.4562</td>\n",
       "      <td>1.565139</td>\n",
       "      <td>0.4406</td>\n",
       "      <td>1.572613</td>\n",
       "      <td>0.4434</td>\n",
       "      <td>1.581521</td>\n",
       "      <td>0.4291</td>\n",
       "    </tr>\n",
       "    <tr>\n",
       "      <th>3</th>\n",
       "      <td>4096</td>\n",
       "      <td>1</td>\n",
       "      <td>0.25</td>\n",
       "      <td>10</td>\n",
       "      <td>adam</td>\n",
       "      <td>1.592452</td>\n",
       "      <td>0.4282</td>\n",
       "      <td>1.561981</td>\n",
       "      <td>0.4440</td>\n",
       "      <td>1.572533</td>\n",
       "      <td>0.4324</td>\n",
       "      <td>1.597842</td>\n",
       "      <td>0.4303</td>\n",
       "      <td>1.593529</td>\n",
       "      <td>0.4309</td>\n",
       "    </tr>\n",
       "    <tr>\n",
       "      <th>4</th>\n",
       "      <td>1024</td>\n",
       "      <td>2</td>\n",
       "      <td>0.25</td>\n",
       "      <td>10</td>\n",
       "      <td>adam</td>\n",
       "      <td>1.713563</td>\n",
       "      <td>0.3977</td>\n",
       "      <td>1.699445</td>\n",
       "      <td>0.4017</td>\n",
       "      <td>1.756053</td>\n",
       "      <td>0.3595</td>\n",
       "      <td>1.690599</td>\n",
       "      <td>0.3904</td>\n",
       "      <td>1.756236</td>\n",
       "      <td>0.3844</td>\n",
       "    </tr>\n",
       "  </tbody>\n",
       "</table>\n",
       "</div>"
      ],
      "text/plain": [
       "   n_neurons  n_layers  dropout  epochs optimizer    loss 1  accuracy 1  \\\n",
       "0       1024         1     0.25      10      adam  1.615170      0.4131   \n",
       "1        512         1     0.25      10      adam  1.651963      0.4034   \n",
       "2       2048         1     0.25      10      adam  1.571110      0.4424   \n",
       "3       4096         1     0.25      10      adam  1.592452      0.4282   \n",
       "4       1024         2     0.25      10      adam  1.713563      0.3977   \n",
       "\n",
       "     loss 2  accuracy 2    loss 3  accuracy 3    loss 4  accuracy 4    loss 5  \\\n",
       "0  1.599568      0.4287  1.593696      0.4370  1.601617      0.4292  1.592294   \n",
       "1  1.650095      0.4072  1.634080      0.4192  1.659325      0.4057  1.646762   \n",
       "2  1.548071      0.4562  1.565139      0.4406  1.572613      0.4434  1.581521   \n",
       "3  1.561981      0.4440  1.572533      0.4324  1.597842      0.4303  1.593529   \n",
       "4  1.699445      0.4017  1.756053      0.3595  1.690599      0.3904  1.756236   \n",
       "\n",
       "   accuracy 5  \n",
       "0      0.4375  \n",
       "1      0.4063  \n",
       "2      0.4291  \n",
       "3      0.4309  \n",
       "4      0.3844  "
      ]
     },
     "execution_count": 12,
     "metadata": {},
     "output_type": "execute_result"
    }
   ],
   "source": [
    "df = pd.read_csv('cifar10_EC02_MLP_analysis.csv')\n",
    "df.head()"
   ]
  },
  {
   "cell_type": "code",
   "execution_count": 18,
   "metadata": {
    "id": "b1XF7sp6wfyF"
   },
   "outputs": [
    {
     "data": {
      "image/png": "[encoded data removed]",
      "text/plain": [
       "<Figure size 480x480 with 2 Axes>"
      ]
     },
     "metadata": {},
     "output_type": "display_data"
    }
   ],
   "source": [
    "losses = np.zeros((n_repetitions, 4))\n",
    "accurs = np.zeros((n_repetitions, 4))\n",
    "\n",
    "for i, n_neurons in enumerate([512,1024,2048,4096]):\n",
    "    sample = df[(df['n_neurons'] == n_neurons) & (df['n_layers'] == 1) & (df['dropout'] == 0.25) & (df['optimizer'] == 'adam') & (df['epochs'] == 10)]\n",
    "    loss   = sample[[f'loss {i}' for i in range(1, n_repetitions+1)]].to_numpy()\n",
    "    accy   = sample[[f'accuracy {i}' for i in range(1, n_repetitions+1)]].to_numpy()\n",
    "\n",
    "    losses[:, i] = loss\n",
    "    accurs[:, i] = accy\n",
    "\n",
    "fig,ax=plt.subplots(2,1,figsize=(4,4),dpi=120,sharex=True)\n",
    "\n",
    "ax[0].boxplot(accurs, tick_labels=[512,1024,2048,4096])\n",
    "ax[1].boxplot(losses, tick_labels=[512,1024,2048,4096])\n",
    "\n",
    "ax[0].set_ylabel('Accuracy')\n",
    "ax[1].set_ylabel('Loss')\n",
    "ax[1].set_xlabel('Number of artificial neurons')\n",
    "fig.align_ylabels()\n",
    "plt.tight_layout()\n"
   ]
  },
  {
   "cell_type": "code",
   "execution_count": 19,
   "metadata": {
    "id": "WJakFAknziv0"
   },
   "outputs": [
    {
     "data": {
      "image/png": "[encoded data removed]",
      "text/plain": [
       "<Figure size 480x480 with 2 Axes>"
      ]
     },
     "metadata": {},
     "output_type": "display_data"
    }
   ],
   "source": [
    "losses = np.zeros((n_repetitions, 3))\n",
    "accurs = np.zeros((n_repetitions, 3))\n",
    "\n",
    "for i, n_layers in enumerate([1,2,3]):\n",
    "    sample = df[(df['n_neurons'] == 1024) & (df['n_layers'] == n_layers)& (df['dropout'] == 0.25) & (df['optimizer'] == 'adam') & (df['epochs'] == 10)]\n",
    "    loss   = sample[[f'loss {i}' for i in  range(1, n_repetitions+1)]].to_numpy()\n",
    "    accy   = sample[[f'accuracy {i}' for i in  range(1, n_repetitions+1)]].to_numpy()\n",
    "\n",
    "    losses[:, i] = loss\n",
    "    accurs[:, i] = accy\n",
    "\n",
    "fig,ax=plt.subplots(2,1,figsize=(4,4),dpi=120,sharex=True)\n",
    "\n",
    "ax[0].boxplot(accurs, tick_labels=[1,2,3])\n",
    "ax[1].boxplot(losses, tick_labels=[1,2,3])\n",
    "\n",
    "ax[0].set_ylabel('Accuracy')\n",
    "ax[1].set_ylabel('Loss')\n",
    "ax[1].set_xlabel('Number of hidden layers')\n",
    "fig.align_ylabels()\n",
    "plt.tight_layout()"
   ]
  },
  {
   "cell_type": "code",
   "execution_count": 20,
   "metadata": {
    "id": "LhGykygaz5dm"
   },
   "outputs": [
    {
     "data": {
      "image/png": "[encoded data removed]",
      "text/plain": [
       "<Figure size 480x480 with 2 Axes>"
      ]
     },
     "metadata": {},
     "output_type": "display_data"
    }
   ],
   "source": [
    "losses = np.zeros((n_repetitions, 3))\n",
    "accurs = np.zeros((n_repetitions, 3))\n",
    "\n",
    "for i, dropout in enumerate([0, 0.25, 0.5]):\n",
    "    sample = df[(df['n_neurons'] == 1024) & (df['n_layers'] == 1)& (df['dropout'] == dropout) & (df['optimizer'] == 'adam') & (df['epochs'] == 10)]\n",
    "    loss   = sample[[f'loss {i}' for i in  range(1, n_repetitions+1)]].to_numpy()\n",
    "    accy   = sample[[f'accuracy {i}' for i in  range(1, n_repetitions+1)]].to_numpy()\n",
    "\n",
    "    losses[:, i] = loss\n",
    "    accurs[:, i] = accy\n",
    "\n",
    "fig,ax=plt.subplots(2,1,figsize=(4,4),dpi=120,sharex=True)\n",
    "\n",
    "ax[0].boxplot(accurs, tick_labels=[0,0.25,0.5])\n",
    "ax[1].boxplot(losses, tick_labels=[0,0.25,0.5])\n",
    "\n",
    "ax[0].set_ylabel('Accuracy')\n",
    "ax[1].set_ylabel('Loss')\n",
    "ax[1].set_xlabel('Dropout')\n",
    "fig.align_ylabels()\n",
    "plt.tight_layout()"
   ]
  },
  {
   "cell_type": "code",
   "execution_count": 21,
   "metadata": {
    "id": "4OKePqKW0UPU"
   },
   "outputs": [
    {
     "data": {
      "image/png": "[encoded data removed]",
      "text/plain": [
       "<Figure size 480x480 with 2 Axes>"
      ]
     },
     "metadata": {},
     "output_type": "display_data"
    }
   ],
   "source": [
    "losses = np.zeros((n_repetitions, 3))\n",
    "accurs = np.zeros((n_repetitions, 3))\n",
    "\n",
    "for i, optimizer in enumerate(['adam','SGD','RMSprop']):\n",
    "    sample = df[(df['n_neurons'] == 1024) & (df['n_layers'] == 1)& (df['dropout'] == 0.25) & (df['optimizer'] == optimizer) & (df['epochs'] == 10)]\n",
    "    loss   = sample[[f'loss {i}' for i in  range(1, n_repetitions+1)]].to_numpy()\n",
    "    accy   = sample[[f'accuracy {i}' for i in  range(1, n_repetitions+1)]].to_numpy()\n",
    "\n",
    "    losses[:, i] = loss\n",
    "    accurs[:, i] = accy\n",
    "\n",
    "fig,ax=plt.subplots(2,1,figsize=(4,4),dpi=120,sharex=True)\n",
    "\n",
    "ax[0].boxplot(accurs, tick_labels=['adam','SGD','RMSprop'])\n",
    "ax[1].boxplot(losses, tick_labels=['adam','SGD','RMSprop'])\n",
    "\n",
    "ax[0].set_ylabel('Accuracy')\n",
    "ax[1].set_ylabel('Loss')\n",
    "ax[1].set_xlabel('Optimizer')\n",
    "fig.align_ylabels()\n",
    "plt.tight_layout()"
   ]
  },
  {
   "cell_type": "code",
   "execution_count": 22,
   "metadata": {
    "id": "H7k3KTdi1Iil"
   },
   "outputs": [
    {
     "data": {
      "image/png": "[encoded data removed]",
      "text/plain": [
       "<Figure size 480x480 with 2 Axes>"
      ]
     },
     "metadata": {},
     "output_type": "display_data"
    }
   ],
   "source": [
    "losses = np.zeros((n_repetitions, 4))\n",
    "accurs = np.zeros((n_repetitions, 4))\n",
    "\n",
    "for i, epochs in enumerate([5,10,20,30]):\n",
    "    sample = df[(df['n_neurons'] == 1024) & (df['n_layers'] == 1)& (df['dropout'] == 0.25) & (df['optimizer'] == 'adam') & (df['epochs'] == epochs)]\n",
    "    loss   = sample[[f'loss {i}' for i in  range(1, n_repetitions+1)]].to_numpy()\n",
    "    accy   = sample[[f'accuracy {i}' for i in  range(1, n_repetitions+1)]].to_numpy()\n",
    "\n",
    "    losses[:, i] = loss\n",
    "    accurs[:, i] = accy\n",
    "\n",
    "fig,ax=plt.subplots(2,1,figsize=(4,4),dpi=120,sharex=True)\n",
    "\n",
    "ax[0].boxplot(accurs, tick_labels=[5,10,20,30])\n",
    "ax[1].boxplot(losses, tick_labels=[5,10,20,30])\n",
    "\n",
    "ax[0].set_ylabel('Accuracy')\n",
    "ax[1].set_ylabel('Loss')\n",
    "ax[1].set_xlabel('Epochs')\n",
    "fig.align_ylabels()\n",
    "plt.tight_layout()"
   ]
  },
  {
   "cell_type": "code",
   "execution_count": 23,
   "metadata": {
    "id": "W-NuUsLIfBYm"
   },
   "outputs": [
    {
     "name": "stdout",
     "output_type": "stream",
     "text": [
      "Epoch 1/30\n",
      "\u001b[1m1563/1563\u001b[0m \u001b[32m━━━━━━━━━━━━━━━━━━━━\u001b[0m\u001b[37m\u001b[0m \u001b[1m28s\u001b[0m 17ms/step - accuracy: 0.3009 - loss: 1.9516\n",
      "Epoch 2/30\n",
      "\u001b[1m1563/1563\u001b[0m \u001b[32m━━━━━━━━━━━━━━━━━━━━\u001b[0m\u001b[37m\u001b[0m \u001b[1m27s\u001b[0m 17ms/step - accuracy: 0.4107 - loss: 1.6769\n",
      "Epoch 3/30\n",
      "\u001b[1m1563/1563\u001b[0m \u001b[32m━━━━━━━━━━━━━━━━━━━━\u001b[0m\u001b[37m\u001b[0m \u001b[1m27s\u001b[0m 17ms/step - accuracy: 0.4420 - loss: 1.5929\n",
      "Epoch 4/30\n",
      "\u001b[1m1563/1563\u001b[0m \u001b[32m━━━━━━━━━━━━━━━━━━━━\u001b[0m\u001b[37m\u001b[0m \u001b[1m27s\u001b[0m 17ms/step - accuracy: 0.4646 - loss: 1.5341\n",
      "Epoch 5/30\n",
      "\u001b[1m1563/1563\u001b[0m \u001b[32m━━━━━━━━━━━━━━━━━━━━\u001b[0m\u001b[37m\u001b[0m \u001b[1m27s\u001b[0m 17ms/step - accuracy: 0.4782 - loss: 1.4902\n",
      "Epoch 6/30\n",
      "\u001b[1m1563/1563\u001b[0m \u001b[32m━━━━━━━━━━━━━━━━━━━━\u001b[0m\u001b[37m\u001b[0m \u001b[1m27s\u001b[0m 17ms/step - accuracy: 0.4943 - loss: 1.4464\n",
      "Epoch 7/30\n",
      "\u001b[1m1563/1563\u001b[0m \u001b[32m━━━━━━━━━━━━━━━━━━━━\u001b[0m\u001b[37m\u001b[0m \u001b[1m27s\u001b[0m 18ms/step - accuracy: 0.5092 - loss: 1.4075\n",
      "Epoch 8/30\n",
      "\u001b[1m1563/1563\u001b[0m \u001b[32m━━━━━━━━━━━━━━━━━━━━\u001b[0m\u001b[37m\u001b[0m \u001b[1m27s\u001b[0m 18ms/step - accuracy: 0.5164 - loss: 1.3818\n",
      "Epoch 9/30\n",
      "\u001b[1m1563/1563\u001b[0m \u001b[32m━━━━━━━━━━━━━━━━━━━━\u001b[0m\u001b[37m\u001b[0m \u001b[1m27s\u001b[0m 17ms/step - accuracy: 0.5289 - loss: 1.3589\n",
      "Epoch 10/30\n",
      "\u001b[1m1563/1563\u001b[0m \u001b[32m━━━━━━━━━━━━━━━━━━━━\u001b[0m\u001b[37m\u001b[0m \u001b[1m28s\u001b[0m 18ms/step - accuracy: 0.5337 - loss: 1.3358\n",
      "Epoch 11/30\n",
      "\u001b[1m1563/1563\u001b[0m \u001b[32m━━━━━━━━━━━━━━━━━━━━\u001b[0m\u001b[37m\u001b[0m \u001b[1m29s\u001b[0m 19ms/step - accuracy: 0.5455 - loss: 1.3083\n",
      "Epoch 12/30\n",
      "\u001b[1m1563/1563\u001b[0m \u001b[32m━━━━━━━━━━━━━━━━━━━━\u001b[0m\u001b[37m\u001b[0m \u001b[1m35s\u001b[0m 22ms/step - accuracy: 0.5542 - loss: 1.2824\n",
      "Epoch 13/30\n",
      "\u001b[1m1563/1563\u001b[0m \u001b[32m━━━━━━━━━━━━━━━━━━━━\u001b[0m\u001b[37m\u001b[0m \u001b[1m34s\u001b[0m 22ms/step - accuracy: 0.5643 - loss: 1.2587\n",
      "Epoch 14/30\n",
      "\u001b[1m1563/1563\u001b[0m \u001b[32m━━━━━━━━━━━━━━━━━━━━\u001b[0m\u001b[37m\u001b[0m \u001b[1m33s\u001b[0m 21ms/step - accuracy: 0.5659 - loss: 1.2449\n",
      "Epoch 15/30\n",
      "\u001b[1m1563/1563\u001b[0m \u001b[32m━━━━━━━━━━━━━━━━━━━━\u001b[0m\u001b[37m\u001b[0m \u001b[1m26s\u001b[0m 17ms/step - accuracy: 0.5798 - loss: 1.2191\n",
      "Epoch 16/30\n",
      "\u001b[1m1563/1563\u001b[0m \u001b[32m━━━━━━━━━━━━━━━━━━━━\u001b[0m\u001b[37m\u001b[0m \u001b[1m26s\u001b[0m 17ms/step - accuracy: 0.5824 - loss: 1.2094\n",
      "Epoch 17/30\n",
      "\u001b[1m1563/1563\u001b[0m \u001b[32m━━━━━━━━━━━━━━━━━━━━\u001b[0m\u001b[37m\u001b[0m \u001b[1m26s\u001b[0m 17ms/step - accuracy: 0.5890 - loss: 1.1878\n",
      "Epoch 18/30\n",
      "\u001b[1m1563/1563\u001b[0m \u001b[32m━━━━━━━━━━━━━━━━━━━━\u001b[0m\u001b[37m\u001b[0m \u001b[1m27s\u001b[0m 17ms/step - accuracy: 0.5906 - loss: 1.1740\n",
      "Epoch 19/30\n",
      "\u001b[1m1563/1563\u001b[0m \u001b[32m━━━━━━━━━━━━━━━━━━━━\u001b[0m\u001b[37m\u001b[0m \u001b[1m27s\u001b[0m 17ms/step - accuracy: 0.6017 - loss: 1.1588\n",
      "Epoch 20/30\n",
      "\u001b[1m1563/1563\u001b[0m \u001b[32m━━━━━━━━━━━━━━━━━━━━\u001b[0m\u001b[37m\u001b[0m \u001b[1m27s\u001b[0m 17ms/step - accuracy: 0.6040 - loss: 1.1394\n",
      "Epoch 21/30\n",
      "\u001b[1m1563/1563\u001b[0m \u001b[32m━━━━━━━━━━━━━━━━━━━━\u001b[0m\u001b[37m\u001b[0m \u001b[1m27s\u001b[0m 17ms/step - accuracy: 0.6145 - loss: 1.1202\n",
      "Epoch 22/30\n",
      "\u001b[1m1563/1563\u001b[0m \u001b[32m━━━━━━━━━━━━━━━━━━━━\u001b[0m\u001b[37m\u001b[0m \u001b[1m26s\u001b[0m 17ms/step - accuracy: 0.6151 - loss: 1.1131\n",
      "Epoch 23/30\n",
      "\u001b[1m1563/1563\u001b[0m \u001b[32m━━━━━━━━━━━━━━━━━━━━\u001b[0m\u001b[37m\u001b[0m \u001b[1m26s\u001b[0m 17ms/step - accuracy: 0.6241 - loss: 1.0865\n",
      "Epoch 24/30\n",
      "\u001b[1m1563/1563\u001b[0m \u001b[32m━━━━━━━━━━━━━━━━━━━━\u001b[0m\u001b[37m\u001b[0m \u001b[1m26s\u001b[0m 17ms/step - accuracy: 0.6284 - loss: 1.0734\n",
      "Epoch 25/30\n",
      "\u001b[1m1563/1563\u001b[0m \u001b[32m━━━━━━━━━━━━━━━━━━━━\u001b[0m\u001b[37m\u001b[0m \u001b[1m26s\u001b[0m 17ms/step - accuracy: 0.6309 - loss: 1.0638\n",
      "Epoch 26/30\n",
      "\u001b[1m1563/1563\u001b[0m \u001b[32m━━━━━━━━━━━━━━━━━━━━\u001b[0m\u001b[37m\u001b[0m \u001b[1m26s\u001b[0m 17ms/step - accuracy: 0.6446 - loss: 1.0435\n",
      "Epoch 27/30\n",
      "\u001b[1m1563/1563\u001b[0m \u001b[32m━━━━━━━━━━━━━━━━━━━━\u001b[0m\u001b[37m\u001b[0m \u001b[1m26s\u001b[0m 17ms/step - accuracy: 0.6431 - loss: 1.0283\n",
      "Epoch 28/30\n",
      "\u001b[1m1563/1563\u001b[0m \u001b[32m━━━━━━━━━━━━━━━━━━━━\u001b[0m\u001b[37m\u001b[0m \u001b[1m26s\u001b[0m 17ms/step - accuracy: 0.6517 - loss: 1.0172\n",
      "Epoch 29/30\n",
      "\u001b[1m1563/1563\u001b[0m \u001b[32m━━━━━━━━━━━━━━━━━━━━\u001b[0m\u001b[37m\u001b[0m \u001b[1m26s\u001b[0m 17ms/step - accuracy: 0.6521 - loss: 1.0079\n",
      "Epoch 30/30\n",
      "\u001b[1m1563/1563\u001b[0m \u001b[32m━━━━━━━━━━━━━━━━━━━━\u001b[0m\u001b[37m\u001b[0m \u001b[1m26s\u001b[0m 17ms/step - accuracy: 0.6589 - loss: 0.9932\n",
      "\u001b[1m313/313\u001b[0m \u001b[32m━━━━━━━━━━━━━━━━━━━━\u001b[0m\u001b[37m\u001b[0m \u001b[1m2s\u001b[0m 6ms/step - accuracy: 0.5459 - loss: 1.3041\n"
     ]
    },
    {
     "data": {
      "text/html": [
       "<pre style=\"white-space:pre;overflow-x:auto;line-height:normal;font-family:Menlo,'DejaVu Sans Mono',consolas,'Courier New',monospace\"><span style=\"font-weight: bold\">Model: \"sequential\"</span>\n",
       "</pre>\n"
      ],
      "text/plain": [
       "\u001b[1mModel: \"sequential\"\u001b[0m\n"
      ]
     },
     "metadata": {},
     "output_type": "display_data"
    },
    {
     "data": {
      "text/html": [
       "<pre style=\"white-space:pre;overflow-x:auto;line-height:normal;font-family:Menlo,'DejaVu Sans Mono',consolas,'Courier New',monospace\">┏━━━━━━━━━━━━━━━━━━━━━━━━━━━━━━━━━┳━━━━━━━━━━━━━━━━━━━━━━━━┳━━━━━━━━━━━━━━━┓\n",
       "┃<span style=\"font-weight: bold\"> Layer (type)                    </span>┃<span style=\"font-weight: bold\"> Output Shape           </span>┃<span style=\"font-weight: bold\">       Param # </span>┃\n",
       "┡━━━━━━━━━━━━━━━━━━━━━━━━━━━━━━━━━╇━━━━━━━━━━━━━━━━━━━━━━━━╇━━━━━━━━━━━━━━━┩\n",
       "│ flatten (<span style=\"color: #0087ff; text-decoration-color: #0087ff\">Flatten</span>)               │ (<span style=\"color: #00d7ff; text-decoration-color: #00d7ff\">None</span>, <span style=\"color: #00af00; text-decoration-color: #00af00\">3072</span>)           │             <span style=\"color: #00af00; text-decoration-color: #00af00\">0</span> │\n",
       "├─────────────────────────────────┼────────────────────────┼───────────────┤\n",
       "│ dense (<span style=\"color: #0087ff; text-decoration-color: #0087ff\">Dense</span>)                   │ (<span style=\"color: #00d7ff; text-decoration-color: #00d7ff\">None</span>, <span style=\"color: #00af00; text-decoration-color: #00af00\">2048</span>)           │     <span style=\"color: #00af00; text-decoration-color: #00af00\">6,293,504</span> │\n",
       "├─────────────────────────────────┼────────────────────────┼───────────────┤\n",
       "│ dropout (<span style=\"color: #0087ff; text-decoration-color: #0087ff\">Dropout</span>)               │ (<span style=\"color: #00d7ff; text-decoration-color: #00d7ff\">None</span>, <span style=\"color: #00af00; text-decoration-color: #00af00\">2048</span>)           │             <span style=\"color: #00af00; text-decoration-color: #00af00\">0</span> │\n",
       "├─────────────────────────────────┼────────────────────────┼───────────────┤\n",
       "│ dense_1 (<span style=\"color: #0087ff; text-decoration-color: #0087ff\">Dense</span>)                 │ (<span style=\"color: #00d7ff; text-decoration-color: #00d7ff\">None</span>, <span style=\"color: #00af00; text-decoration-color: #00af00\">10</span>)             │        <span style=\"color: #00af00; text-decoration-color: #00af00\">20,490</span> │\n",
       "└─────────────────────────────────┴────────────────────────┴───────────────┘\n",
       "</pre>\n"
      ],
      "text/plain": [
       "┏━━━━━━━━━━━━━━━━━━━━━━━━━━━━━━━━━┳━━━━━━━━━━━━━━━━━━━━━━━━┳━━━━━━━━━━━━━━━┓\n",
       "┃\u001b[1m \u001b[0m\u001b[1mLayer (type)                   \u001b[0m\u001b[1m \u001b[0m┃\u001b[1m \u001b[0m\u001b[1mOutput Shape          \u001b[0m\u001b[1m \u001b[0m┃\u001b[1m \u001b[0m\u001b[1m      Param #\u001b[0m\u001b[1m \u001b[0m┃\n",
       "┡━━━━━━━━━━━━━━━━━━━━━━━━━━━━━━━━━╇━━━━━━━━━━━━━━━━━━━━━━━━╇━━━━━━━━━━━━━━━┩\n",
       "│ flatten (\u001b[38;5;33mFlatten\u001b[0m)               │ (\u001b[38;5;45mNone\u001b[0m, \u001b[38;5;34m3072\u001b[0m)           │             \u001b[38;5;34m0\u001b[0m │\n",
       "├─────────────────────────────────┼────────────────────────┼───────────────┤\n",
       "│ dense (\u001b[38;5;33mDense\u001b[0m)                   │ (\u001b[38;5;45mNone\u001b[0m, \u001b[38;5;34m2048\u001b[0m)           │     \u001b[38;5;34m6,293,504\u001b[0m │\n",
       "├─────────────────────────────────┼────────────────────────┼───────────────┤\n",
       "│ dropout (\u001b[38;5;33mDropout\u001b[0m)               │ (\u001b[38;5;45mNone\u001b[0m, \u001b[38;5;34m2048\u001b[0m)           │             \u001b[38;5;34m0\u001b[0m │\n",
       "├─────────────────────────────────┼────────────────────────┼───────────────┤\n",
       "│ dense_1 (\u001b[38;5;33mDense\u001b[0m)                 │ (\u001b[38;5;45mNone\u001b[0m, \u001b[38;5;34m10\u001b[0m)             │        \u001b[38;5;34m20,490\u001b[0m │\n",
       "└─────────────────────────────────┴────────────────────────┴───────────────┘\n"
      ]
     },
     "metadata": {},
     "output_type": "display_data"
    },
    {
     "data": {
      "text/html": [
       "<pre style=\"white-space:pre;overflow-x:auto;line-height:normal;font-family:Menlo,'DejaVu Sans Mono',consolas,'Courier New',monospace\"><span style=\"font-weight: bold\"> Total params: </span><span style=\"color: #00af00; text-decoration-color: #00af00\">6,313,996</span> (24.09 MB)\n",
       "</pre>\n"
      ],
      "text/plain": [
       "\u001b[1m Total params: \u001b[0m\u001b[38;5;34m6,313,996\u001b[0m (24.09 MB)\n"
      ]
     },
     "metadata": {},
     "output_type": "display_data"
    },
    {
     "data": {
      "text/html": [
       "<pre style=\"white-space:pre;overflow-x:auto;line-height:normal;font-family:Menlo,'DejaVu Sans Mono',consolas,'Courier New',monospace\"><span style=\"font-weight: bold\"> Trainable params: </span><span style=\"color: #00af00; text-decoration-color: #00af00\">6,313,994</span> (24.09 MB)\n",
       "</pre>\n"
      ],
      "text/plain": [
       "\u001b[1m Trainable params: \u001b[0m\u001b[38;5;34m6,313,994\u001b[0m (24.09 MB)\n"
      ]
     },
     "metadata": {},
     "output_type": "display_data"
    },
    {
     "data": {
      "text/html": [
       "<pre style=\"white-space:pre;overflow-x:auto;line-height:normal;font-family:Menlo,'DejaVu Sans Mono',consolas,'Courier New',monospace\"><span style=\"font-weight: bold\"> Non-trainable params: </span><span style=\"color: #00af00; text-decoration-color: #00af00\">0</span> (0.00 B)\n",
       "</pre>\n"
      ],
      "text/plain": [
       "\u001b[1m Non-trainable params: \u001b[0m\u001b[38;5;34m0\u001b[0m (0.00 B)\n"
      ]
     },
     "metadata": {},
     "output_type": "display_data"
    },
    {
     "data": {
      "text/html": [
       "<pre style=\"white-space:pre;overflow-x:auto;line-height:normal;font-family:Menlo,'DejaVu Sans Mono',consolas,'Courier New',monospace\"><span style=\"font-weight: bold\"> Optimizer params: </span><span style=\"color: #00af00; text-decoration-color: #00af00\">2</span> (12.00 B)\n",
       "</pre>\n"
      ],
      "text/plain": [
       "\u001b[1m Optimizer params: \u001b[0m\u001b[38;5;34m2\u001b[0m (12.00 B)\n"
      ]
     },
     "metadata": {},
     "output_type": "display_data"
    },
    {
     "name": "stdout",
     "output_type": "stream",
     "text": [
      "Evaluate on test data\n",
      "test loss, test acc: 1.3184396028518677 0.5422000288963318\n"
     ]
    }
   ],
   "source": [
    "# Please, insert the values obtained by the simplified grid search here and execute the code\n",
    "d = model_and_evaluate(n_neurons=2048,\n",
    "                       n_layers=1,\n",
    "                       dropout=0,\n",
    "                       optimizer='SGD',\n",
    "                       epochs=30)"
   ]
  }
 ],
 "metadata": {
  "accelerator": "GPU",
  "colab": {
   "gpuType": "T4",
   "provenance": []
  },
  "gpuClass": "standard",
  "kernelspec": {
   "display_name": "Python 3 (ipykernel)",
   "language": "python",
   "name": "python3"
  },
  "language_info": {
   "codemirror_mode": {
    "name": "ipython",
    "version": 3
   },
   "file_extension": ".py",
   "mimetype": "text/x-python",
   "name": "python",
   "nbconvert_exporter": "python",
   "pygments_lexer": "ipython3",
   "version": "3.12.3"
  },
  "vscode": {
   "interpreter": {
    "hash": "916dbcbb3f70747c44a77c7bcd40155683ae19c65e1c03b4aa3499c5328201f1"
   }
  }
 },
 "nbformat": 4,
 "nbformat_minor": 1
}

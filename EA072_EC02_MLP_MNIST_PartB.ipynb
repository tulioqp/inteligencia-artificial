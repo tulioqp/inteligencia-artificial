{
 "cells": [
  {
   "cell_type": "markdown",
   "metadata": {
    "id": "xMsNyA3WPrER"
   },
   "source": [
    "# **Notebook EC#02 (Part B)**\n",
    "# MLP classifier for the MNIST database.\n",
    "#### Simplified grid search for the hyperparameters.\n",
    "**Professor:** Fernando J. Von Zuben <br>\n",
    "**Aluno(a):**"
   ]
  },
  {
   "cell_type": "code",
   "execution_count": 3,
   "metadata": {
    "id": "feKIgQlnaT7U"
   },
   "outputs": [],
   "source": [
    "import matplotlib.pyplot as plt\n",
    "from tqdm.notebook import tqdm\n",
    "import tensorflow as tf\n",
    "import pandas as pd\n",
    "import numpy as np\n",
    "import os\n",
    "import gc\n",
    "\n",
    "mnist = tf.keras.datasets.mnist\n",
    "\n",
    "(x_train, y_train),(x_test, y_test) = mnist.load_data()\n",
    "x_train, x_test = x_train / 255.0, x_test / 255.0"
   ]
  },
  {
   "cell_type": "code",
   "execution_count": 4,
   "metadata": {
    "id": "MH_I88sRYMQR"
   },
   "outputs": [],
   "source": [
    "def model_and_evaluate(n_neurons = 512,\n",
    "                       n_layers  = 1,\n",
    "                       dropout   = 0.25,\n",
    "                       epochs    = 5,\n",
    "                       optimizer = 'adam',\n",
    "                       verbose   = 1):\n",
    "    gc.collect()\n",
    "    tf.keras.backend.clear_session()\n",
    "\n",
    "    model = tf.keras.models.Sequential([\n",
    "          tf.keras.layers.Flatten(),\n",
    "          tf.keras.layers.Dense(n_neurons,activation=tf.nn.relu),\n",
    "          tf.keras.layers.Dropout(dropout)])\n",
    "\n",
    "    if n_layers > 1:\n",
    "        for _ in range(n_layers-1):\n",
    "            model.add(tf.keras.layers.Dense(n_neurons,activation=tf.nn.relu))\n",
    "            model.add(tf.keras.layers.Dropout(dropout))\n",
    "\n",
    "    model.add(tf.keras.layers.Dense(10, activation=tf.nn.softmax))\n",
    "    model.compile(optimizer=optimizer,\n",
    "                  loss='sparse_categorical_crossentropy',\n",
    "                  metrics=['accuracy'])\n",
    "\n",
    "    model.fit(x_train, y_train, epochs=epochs, verbose=verbose)\n",
    "\n",
    "    loss, accuracy = model.evaluate(x_test, y_test,verbose=verbose)\n",
    "\n",
    "    if verbose:\n",
    "        model.summary()\n",
    "        # Evaluate the model on the test data using `evaluate`\n",
    "        print(\"Evaluate on test data\")\n",
    "        print(\"test loss, test acc:\", loss, accuracy)\n",
    "\n",
    "    train_result = dict(n_neurons = n_neurons,\n",
    "                        n_layers  = n_layers,\n",
    "                        optimizer = optimizer,\n",
    "                        dropout   = dropout,\n",
    "                        epochs    = epochs,\n",
    "                        loss      = loss,\n",
    "                        accuracy  = accuracy)\n",
    "    return loss, accuracy"
   ]
  },
  {
   "cell_type": "code",
   "execution_count": 5,
   "metadata": {
    "id": "YdFzu9J-WgWO"
   },
   "outputs": [],
   "source": [
    "n_repetitions = 5\n",
    "DEFAULT = {\n",
    "    'n_neurons' : 512,\n",
    "    'n_layers'  : 1,\n",
    "    'dropout'   : 0.25,\n",
    "    'epochs'    : 5,\n",
    "    'optimizer' : 'adam'\n",
    "}\n",
    "\n",
    "df = pd.DataFrame(columns=['n_neurons', 'n_layers', 'dropout', 'epochs','optimizer'] + \\\n",
    "                          [f\"{metric} {iteration}\" for iteration in range(1, n_repetitions+1) for metric in ['loss', 'accuracy']])"
   ]
  },
  {
   "cell_type": "code",
   "execution_count": 6,
   "metadata": {
    "id": "_gnl-yKziHBk"
   },
   "outputs": [
    {
     "data": {
      "application/vnd.jupyter.widget-view+json": {
       "model_id": "dfb1e1a2aa1a4d0c86c842745c9b9955",
       "version_major": 2,
       "version_minor": 0
      },
      "text/plain": [
       "  0%|          | 0/5 [00:00<?, ?it/s]"
      ]
     },
     "metadata": {},
     "output_type": "display_data"
    },
    {
     "name": "stderr",
     "output_type": "stream",
     "text": [
      "2024-09-11 03:17:13.794111: W external/local_tsl/tsl/framework/cpu_allocator_impl.cc:83] Allocation of 188160000 exceeds 10% of free system memory.\n",
      "2024-09-11 03:19:50.025537: W external/local_tsl/tsl/framework/cpu_allocator_impl.cc:83] Allocation of 31360000 exceeds 10% of free system memory.\n",
      "2024-09-11 03:19:54.090678: W external/local_tsl/tsl/framework/cpu_allocator_impl.cc:83] Allocation of 188160000 exceeds 10% of free system memory.\n",
      "2024-09-11 03:22:09.557452: W external/local_tsl/tsl/framework/cpu_allocator_impl.cc:83] Allocation of 31360000 exceeds 10% of free system memory.\n",
      "2024-09-11 03:22:13.794862: W external/local_tsl/tsl/framework/cpu_allocator_impl.cc:83] Allocation of 188160000 exceeds 10% of free system memory.\n"
     ]
    }
   ],
   "source": [
    "args = DEFAULT.copy()\n",
    "row = list(args.values())\n",
    "for iter in tqdm(range(n_repetitions)):\n",
    "        loss, accuracy = model_and_evaluate(verbose=0)\n",
    "\n",
    "        row.append(loss)\n",
    "        row.append(accuracy)\n",
    "df.loc[0] = row"
   ]
  },
  {
   "cell_type": "code",
   "execution_count": 7,
   "metadata": {
    "id": "xZ-lbPruWgWO"
   },
   "outputs": [
    {
     "data": {
      "application/vnd.jupyter.widget-view+json": {
       "model_id": "13c67eb50a824776b2b11b6d37062c31",
       "version_major": 2,
       "version_minor": 0
      },
      "text/plain": [
       "  0%|          | 0/5 [00:00<?, ?it/s]"
      ]
     },
     "metadata": {},
     "output_type": "display_data"
    },
    {
     "data": {
      "application/vnd.jupyter.widget-view+json": {
       "model_id": "5838c8dcb6134c33a1a279089ce431be",
       "version_major": 2,
       "version_minor": 0
      },
      "text/plain": [
       "  0%|          | 0/5 [00:00<?, ?it/s]"
      ]
     },
     "metadata": {},
     "output_type": "display_data"
    },
    {
     "data": {
      "application/vnd.jupyter.widget-view+json": {
       "model_id": "8c89f9cd59f14eb19f93112b34696153",
       "version_major": 2,
       "version_minor": 0
      },
      "text/plain": [
       "  0%|          | 0/5 [00:00<?, ?it/s]"
      ]
     },
     "metadata": {},
     "output_type": "display_data"
    }
   ],
   "source": [
    "for n_neurons in [1024, 2048, 4096]:\n",
    "    args = DEFAULT.copy()\n",
    "    args['n_neurons'] = n_neurons\n",
    "\n",
    "    row = list(args.values())\n",
    "\n",
    "    for iter in tqdm(range(n_repetitions)):\n",
    "        loss, accuracy = model_and_evaluate(n_neurons=n_neurons, verbose=0)\n",
    "\n",
    "        row.append(loss)\n",
    "        row.append(accuracy)\n",
    "\n",
    "    df.loc[f'n_neurons={n_neurons}'] = row\n"
   ]
  },
  {
   "cell_type": "code",
   "execution_count": 8,
   "metadata": {
    "id": "42sb--VnWgWP"
   },
   "outputs": [
    {
     "data": {
      "application/vnd.jupyter.widget-view+json": {
       "model_id": "aa6c318f97af4179a9d88a9ac039225d",
       "version_major": 2,
       "version_minor": 0
      },
      "text/plain": [
       "  0%|          | 0/5 [00:00<?, ?it/s]"
      ]
     },
     "metadata": {},
     "output_type": "display_data"
    },
    {
     "data": {
      "application/vnd.jupyter.widget-view+json": {
       "model_id": "7a0aa3935dd64a26b27d9bf83dc1680b",
       "version_major": 2,
       "version_minor": 0
      },
      "text/plain": [
       "  0%|          | 0/5 [00:00<?, ?it/s]"
      ]
     },
     "metadata": {},
     "output_type": "display_data"
    }
   ],
   "source": [
    "for n_layers in [2, 3]:\n",
    "    args = DEFAULT.copy()\n",
    "    args['n_layers'] = n_layers\n",
    "\n",
    "    row = list(args.values())\n",
    "\n",
    "    for iter in tqdm(range(n_repetitions)):\n",
    "        loss, accuracy = model_and_evaluate(n_layers=n_layers, verbose=0)\n",
    "\n",
    "        row.append(loss)\n",
    "        row.append(accuracy)\n",
    "\n",
    "    df.loc[f'n_layers={n_layers}'] = row"
   ]
  },
  {
   "cell_type": "code",
   "execution_count": 9,
   "metadata": {
    "id": "-DPXsJa1WgWP"
   },
   "outputs": [
    {
     "data": {
      "application/vnd.jupyter.widget-view+json": {
       "model_id": "72136c52c73244818437d8561f6c09df",
       "version_major": 2,
       "version_minor": 0
      },
      "text/plain": [
       "  0%|          | 0/5 [00:00<?, ?it/s]"
      ]
     },
     "metadata": {},
     "output_type": "display_data"
    },
    {
     "data": {
      "application/vnd.jupyter.widget-view+json": {
       "model_id": "ba7f7ed98ee94e909c402de7b9f79e3b",
       "version_major": 2,
       "version_minor": 0
      },
      "text/plain": [
       "  0%|          | 0/5 [00:00<?, ?it/s]"
      ]
     },
     "metadata": {},
     "output_type": "display_data"
    }
   ],
   "source": [
    "for dropout in [0, 0.5]:\n",
    "    args = DEFAULT.copy()\n",
    "    args['dropout'] = dropout\n",
    "\n",
    "    row = list(args.values())\n",
    "\n",
    "    for iter in tqdm(range(n_repetitions)):\n",
    "        loss, accuracy = model_and_evaluate(dropout=dropout, verbose=0)\n",
    "\n",
    "        row.append(loss)\n",
    "        row.append(accuracy)\n",
    "\n",
    "    df.loc[f'dropout={dropout}'] = row"
   ]
  },
  {
   "cell_type": "code",
   "execution_count": 10,
   "metadata": {
    "id": "g7sL1VTbWgWQ"
   },
   "outputs": [
    {
     "data": {
      "application/vnd.jupyter.widget-view+json": {
       "model_id": "0e1513b2fffd41b9a8df0d9036eac002",
       "version_major": 2,
       "version_minor": 0
      },
      "text/plain": [
       "  0%|          | 0/5 [00:00<?, ?it/s]"
      ]
     },
     "metadata": {},
     "output_type": "display_data"
    },
    {
     "data": {
      "application/vnd.jupyter.widget-view+json": {
       "model_id": "074dec30a62c43bc9bfae706743a623f",
       "version_major": 2,
       "version_minor": 0
      },
      "text/plain": [
       "  0%|          | 0/5 [00:00<?, ?it/s]"
      ]
     },
     "metadata": {},
     "output_type": "display_data"
    }
   ],
   "source": [
    "for optimizer in ['RMSprop', 'SGD']:\n",
    "    args = DEFAULT.copy()\n",
    "    args['optimizer'] = optimizer\n",
    "\n",
    "    row = list(args.values())\n",
    "\n",
    "    for iter in tqdm(range(n_repetitions)):\n",
    "        loss, accuracy = model_and_evaluate(optimizer=optimizer, verbose=0)\n",
    "\n",
    "        row.append(loss)\n",
    "        row.append(accuracy)\n",
    "\n",
    "    df.loc[f'optimizer={optimizer}'] = row"
   ]
  },
  {
   "cell_type": "code",
   "execution_count": 11,
   "metadata": {
    "id": "UjqkU0jSWgWQ"
   },
   "outputs": [
    {
     "data": {
      "application/vnd.jupyter.widget-view+json": {
       "model_id": "1130376f6d95457c8760e9ca4dc6847a",
       "version_major": 2,
       "version_minor": 0
      },
      "text/plain": [
       "  0%|          | 0/5 [00:00<?, ?it/s]"
      ]
     },
     "metadata": {},
     "output_type": "display_data"
    },
    {
     "data": {
      "application/vnd.jupyter.widget-view+json": {
       "model_id": "829c4538137c45119a7190d99642728b",
       "version_major": 2,
       "version_minor": 0
      },
      "text/plain": [
       "  0%|          | 0/5 [00:00<?, ?it/s]"
      ]
     },
     "metadata": {},
     "output_type": "display_data"
    },
    {
     "data": {
      "application/vnd.jupyter.widget-view+json": {
       "model_id": "f40043c516374c938ddcabeaef825241",
       "version_major": 2,
       "version_minor": 0
      },
      "text/plain": [
       "  0%|          | 0/5 [00:00<?, ?it/s]"
      ]
     },
     "metadata": {},
     "output_type": "display_data"
    }
   ],
   "source": [
    "for epochs in [10, 20, 30]:\n",
    "    args = DEFAULT.copy()\n",
    "    args['epochs'] = epochs\n",
    "\n",
    "    row = list(args.values())\n",
    "\n",
    "    for iter in tqdm(range(n_repetitions)):\n",
    "        loss, accuracy = model_and_evaluate(epochs=epochs, verbose=0)\n",
    "\n",
    "        row.append(loss)\n",
    "        row.append(accuracy)\n",
    "\n",
    "    df.loc[f'epochs={epochs}'] = row"
   ]
  },
  {
   "cell_type": "code",
   "execution_count": 12,
   "metadata": {
    "id": "fwjImmahSJV6",
    "scrolled": true
   },
   "outputs": [
    {
     "data": {
      "text/html": [
       "<div>\n",
       "<style scoped>\n",
       "    .dataframe tbody tr th:only-of-type {\n",
       "        vertical-align: middle;\n",
       "    }\n",
       "\n",
       "    .dataframe tbody tr th {\n",
       "        vertical-align: top;\n",
       "    }\n",
       "\n",
       "    .dataframe thead th {\n",
       "        text-align: right;\n",
       "    }\n",
       "</style>\n",
       "<table border=\"1\" class=\"dataframe\">\n",
       "  <thead>\n",
       "    <tr style=\"text-align: right;\">\n",
       "      <th></th>\n",
       "      <th>n_neurons</th>\n",
       "      <th>n_layers</th>\n",
       "      <th>dropout</th>\n",
       "      <th>epochs</th>\n",
       "      <th>optimizer</th>\n",
       "      <th>loss 1</th>\n",
       "      <th>accuracy 1</th>\n",
       "      <th>loss 2</th>\n",
       "      <th>accuracy 2</th>\n",
       "      <th>loss 3</th>\n",
       "      <th>accuracy 3</th>\n",
       "      <th>loss 4</th>\n",
       "      <th>accuracy 4</th>\n",
       "      <th>loss 5</th>\n",
       "      <th>accuracy 5</th>\n",
       "    </tr>\n",
       "  </thead>\n",
       "  <tbody>\n",
       "    <tr>\n",
       "      <th>0</th>\n",
       "      <td>512</td>\n",
       "      <td>1</td>\n",
       "      <td>0.25</td>\n",
       "      <td>5</td>\n",
       "      <td>adam</td>\n",
       "      <td>0.064936</td>\n",
       "      <td>0.9807</td>\n",
       "      <td>0.065401</td>\n",
       "      <td>0.9803</td>\n",
       "      <td>0.070745</td>\n",
       "      <td>0.9778</td>\n",
       "      <td>0.070661</td>\n",
       "      <td>0.9797</td>\n",
       "      <td>0.071803</td>\n",
       "      <td>0.9776</td>\n",
       "    </tr>\n",
       "    <tr>\n",
       "      <th>n_neurons=1024</th>\n",
       "      <td>1024</td>\n",
       "      <td>1</td>\n",
       "      <td>0.25</td>\n",
       "      <td>5</td>\n",
       "      <td>adam</td>\n",
       "      <td>0.070101</td>\n",
       "      <td>0.9812</td>\n",
       "      <td>0.071451</td>\n",
       "      <td>0.9804</td>\n",
       "      <td>0.076640</td>\n",
       "      <td>0.9790</td>\n",
       "      <td>0.068260</td>\n",
       "      <td>0.9804</td>\n",
       "      <td>0.071086</td>\n",
       "      <td>0.9794</td>\n",
       "    </tr>\n",
       "    <tr>\n",
       "      <th>n_neurons=2048</th>\n",
       "      <td>2048</td>\n",
       "      <td>1</td>\n",
       "      <td>0.25</td>\n",
       "      <td>5</td>\n",
       "      <td>adam</td>\n",
       "      <td>0.083621</td>\n",
       "      <td>0.9764</td>\n",
       "      <td>0.074040</td>\n",
       "      <td>0.9802</td>\n",
       "      <td>0.085491</td>\n",
       "      <td>0.9773</td>\n",
       "      <td>0.071321</td>\n",
       "      <td>0.9812</td>\n",
       "      <td>0.077004</td>\n",
       "      <td>0.9778</td>\n",
       "    </tr>\n",
       "    <tr>\n",
       "      <th>n_neurons=4096</th>\n",
       "      <td>4096</td>\n",
       "      <td>1</td>\n",
       "      <td>0.25</td>\n",
       "      <td>5</td>\n",
       "      <td>adam</td>\n",
       "      <td>0.087525</td>\n",
       "      <td>0.9771</td>\n",
       "      <td>0.085586</td>\n",
       "      <td>0.9776</td>\n",
       "      <td>0.085718</td>\n",
       "      <td>0.9797</td>\n",
       "      <td>0.085817</td>\n",
       "      <td>0.9788</td>\n",
       "      <td>0.084218</td>\n",
       "      <td>0.9769</td>\n",
       "    </tr>\n",
       "    <tr>\n",
       "      <th>n_layers=2</th>\n",
       "      <td>512</td>\n",
       "      <td>2</td>\n",
       "      <td>0.25</td>\n",
       "      <td>5</td>\n",
       "      <td>adam</td>\n",
       "      <td>0.077720</td>\n",
       "      <td>0.9774</td>\n",
       "      <td>0.071132</td>\n",
       "      <td>0.9792</td>\n",
       "      <td>0.091405</td>\n",
       "      <td>0.9736</td>\n",
       "      <td>0.070751</td>\n",
       "      <td>0.9795</td>\n",
       "      <td>0.084438</td>\n",
       "      <td>0.9777</td>\n",
       "    </tr>\n",
       "  </tbody>\n",
       "</table>\n",
       "</div>"
      ],
      "text/plain": [
       "                n_neurons  n_layers  dropout  epochs optimizer    loss 1  \\\n",
       "0                     512         1     0.25       5      adam  0.064936   \n",
       "n_neurons=1024       1024         1     0.25       5      adam  0.070101   \n",
       "n_neurons=2048       2048         1     0.25       5      adam  0.083621   \n",
       "n_neurons=4096       4096         1     0.25       5      adam  0.087525   \n",
       "n_layers=2            512         2     0.25       5      adam  0.077720   \n",
       "\n",
       "                accuracy 1    loss 2  accuracy 2    loss 3  accuracy 3  \\\n",
       "0                   0.9807  0.065401      0.9803  0.070745      0.9778   \n",
       "n_neurons=1024      0.9812  0.071451      0.9804  0.076640      0.9790   \n",
       "n_neurons=2048      0.9764  0.074040      0.9802  0.085491      0.9773   \n",
       "n_neurons=4096      0.9771  0.085586      0.9776  0.085718      0.9797   \n",
       "n_layers=2          0.9774  0.071132      0.9792  0.091405      0.9736   \n",
       "\n",
       "                  loss 4  accuracy 4    loss 5  accuracy 5  \n",
       "0               0.070661      0.9797  0.071803      0.9776  \n",
       "n_neurons=1024  0.068260      0.9804  0.071086      0.9794  \n",
       "n_neurons=2048  0.071321      0.9812  0.077004      0.9778  \n",
       "n_neurons=4096  0.085817      0.9788  0.084218      0.9769  \n",
       "n_layers=2      0.070751      0.9795  0.084438      0.9777  "
      ]
     },
     "execution_count": 12,
     "metadata": {},
     "output_type": "execute_result"
    }
   ],
   "source": [
    "df.to_csv('mnist_EC02_MLP_analysis.csv',index=False)\n",
    "df.head()"
   ]
  },
  {
   "cell_type": "code",
   "execution_count": 13,
   "metadata": {
    "id": "KEElqZwZfBYj"
   },
   "outputs": [
    {
     "data": {
      "text/html": [
       "<div>\n",
       "<style scoped>\n",
       "    .dataframe tbody tr th:only-of-type {\n",
       "        vertical-align: middle;\n",
       "    }\n",
       "\n",
       "    .dataframe tbody tr th {\n",
       "        vertical-align: top;\n",
       "    }\n",
       "\n",
       "    .dataframe thead th {\n",
       "        text-align: right;\n",
       "    }\n",
       "</style>\n",
       "<table border=\"1\" class=\"dataframe\">\n",
       "  <thead>\n",
       "    <tr style=\"text-align: right;\">\n",
       "      <th></th>\n",
       "      <th>n_neurons</th>\n",
       "      <th>n_layers</th>\n",
       "      <th>dropout</th>\n",
       "      <th>epochs</th>\n",
       "      <th>optimizer</th>\n",
       "      <th>loss 1</th>\n",
       "      <th>accuracy 1</th>\n",
       "      <th>loss 2</th>\n",
       "      <th>accuracy 2</th>\n",
       "      <th>loss 3</th>\n",
       "      <th>accuracy 3</th>\n",
       "      <th>loss 4</th>\n",
       "      <th>accuracy 4</th>\n",
       "      <th>loss 5</th>\n",
       "      <th>accuracy 5</th>\n",
       "    </tr>\n",
       "  </thead>\n",
       "  <tbody>\n",
       "    <tr>\n",
       "      <th>0</th>\n",
       "      <td>512</td>\n",
       "      <td>1</td>\n",
       "      <td>0.25</td>\n",
       "      <td>5</td>\n",
       "      <td>adam</td>\n",
       "      <td>0.064936</td>\n",
       "      <td>0.9807</td>\n",
       "      <td>0.065401</td>\n",
       "      <td>0.9803</td>\n",
       "      <td>0.070745</td>\n",
       "      <td>0.9778</td>\n",
       "      <td>0.070661</td>\n",
       "      <td>0.9797</td>\n",
       "      <td>0.071803</td>\n",
       "      <td>0.9776</td>\n",
       "    </tr>\n",
       "    <tr>\n",
       "      <th>1</th>\n",
       "      <td>1024</td>\n",
       "      <td>1</td>\n",
       "      <td>0.25</td>\n",
       "      <td>5</td>\n",
       "      <td>adam</td>\n",
       "      <td>0.070101</td>\n",
       "      <td>0.9812</td>\n",
       "      <td>0.071451</td>\n",
       "      <td>0.9804</td>\n",
       "      <td>0.076640</td>\n",
       "      <td>0.9790</td>\n",
       "      <td>0.068260</td>\n",
       "      <td>0.9804</td>\n",
       "      <td>0.071086</td>\n",
       "      <td>0.9794</td>\n",
       "    </tr>\n",
       "    <tr>\n",
       "      <th>2</th>\n",
       "      <td>2048</td>\n",
       "      <td>1</td>\n",
       "      <td>0.25</td>\n",
       "      <td>5</td>\n",
       "      <td>adam</td>\n",
       "      <td>0.083621</td>\n",
       "      <td>0.9764</td>\n",
       "      <td>0.074040</td>\n",
       "      <td>0.9802</td>\n",
       "      <td>0.085491</td>\n",
       "      <td>0.9773</td>\n",
       "      <td>0.071321</td>\n",
       "      <td>0.9812</td>\n",
       "      <td>0.077004</td>\n",
       "      <td>0.9778</td>\n",
       "    </tr>\n",
       "    <tr>\n",
       "      <th>3</th>\n",
       "      <td>4096</td>\n",
       "      <td>1</td>\n",
       "      <td>0.25</td>\n",
       "      <td>5</td>\n",
       "      <td>adam</td>\n",
       "      <td>0.087525</td>\n",
       "      <td>0.9771</td>\n",
       "      <td>0.085586</td>\n",
       "      <td>0.9776</td>\n",
       "      <td>0.085718</td>\n",
       "      <td>0.9797</td>\n",
       "      <td>0.085817</td>\n",
       "      <td>0.9788</td>\n",
       "      <td>0.084218</td>\n",
       "      <td>0.9769</td>\n",
       "    </tr>\n",
       "    <tr>\n",
       "      <th>4</th>\n",
       "      <td>512</td>\n",
       "      <td>2</td>\n",
       "      <td>0.25</td>\n",
       "      <td>5</td>\n",
       "      <td>adam</td>\n",
       "      <td>0.077720</td>\n",
       "      <td>0.9774</td>\n",
       "      <td>0.071132</td>\n",
       "      <td>0.9792</td>\n",
       "      <td>0.091405</td>\n",
       "      <td>0.9736</td>\n",
       "      <td>0.070751</td>\n",
       "      <td>0.9795</td>\n",
       "      <td>0.084438</td>\n",
       "      <td>0.9777</td>\n",
       "    </tr>\n",
       "  </tbody>\n",
       "</table>\n",
       "</div>"
      ],
      "text/plain": [
       "   n_neurons  n_layers  dropout  epochs optimizer    loss 1  accuracy 1  \\\n",
       "0        512         1     0.25       5      adam  0.064936      0.9807   \n",
       "1       1024         1     0.25       5      adam  0.070101      0.9812   \n",
       "2       2048         1     0.25       5      adam  0.083621      0.9764   \n",
       "3       4096         1     0.25       5      adam  0.087525      0.9771   \n",
       "4        512         2     0.25       5      adam  0.077720      0.9774   \n",
       "\n",
       "     loss 2  accuracy 2    loss 3  accuracy 3    loss 4  accuracy 4    loss 5  \\\n",
       "0  0.065401      0.9803  0.070745      0.9778  0.070661      0.9797  0.071803   \n",
       "1  0.071451      0.9804  0.076640      0.9790  0.068260      0.9804  0.071086   \n",
       "2  0.074040      0.9802  0.085491      0.9773  0.071321      0.9812  0.077004   \n",
       "3  0.085586      0.9776  0.085718      0.9797  0.085817      0.9788  0.084218   \n",
       "4  0.071132      0.9792  0.091405      0.9736  0.070751      0.9795  0.084438   \n",
       "\n",
       "   accuracy 5  \n",
       "0      0.9776  \n",
       "1      0.9794  \n",
       "2      0.9778  \n",
       "3      0.9769  \n",
       "4      0.9777  "
      ]
     },
     "execution_count": 13,
     "metadata": {},
     "output_type": "execute_result"
    }
   ],
   "source": [
    "df = pd.read_csv('mnist_EC02_MLP_analysis.csv')\n",
    "df.head()"
   ]
  },
  {
   "cell_type": "code",
   "execution_count": 14,
   "metadata": {
    "id": "b1XF7sp6wfyF"
   },
   "outputs": [
    {
     "name": "stderr",
     "output_type": "stream",
     "text": [
      "/tmp/ipykernel_30482/1601614614.py:14: MatplotlibDeprecationWarning: The 'labels' parameter of boxplot() has been renamed 'tick_labels' since Matplotlib 3.9; support for the old name will be dropped in 3.11.\n",
      "  ax[0].boxplot(accurs, labels=[512,1024,2048,4096])\n",
      "/tmp/ipykernel_30482/1601614614.py:15: MatplotlibDeprecationWarning: The 'labels' parameter of boxplot() has been renamed 'tick_labels' since Matplotlib 3.9; support for the old name will be dropped in 3.11.\n",
      "  ax[1].boxplot(losses, labels=[512,1024,2048,4096])\n"
     ]
    },
    {
     "data": {
      "image/png": "[encoded data removed]",
      "text/plain": [
       "<Figure size 480x480 with 2 Axes>"
      ]
     },
     "metadata": {},
     "output_type": "display_data"
    }
   ],
   "source": [
    "losses = np.zeros((n_repetitions, 4))\n",
    "accurs = np.zeros((n_repetitions, 4))\n",
    "\n",
    "for i, n_neurons in enumerate([512,1024,2048,4096]):\n",
    "    sample = df[(df['n_neurons'] == n_neurons) & (df['n_layers'] == 1) & (df['dropout'] == 0.25) & (df['optimizer'] == 'adam') & (df['epochs'] == 5)]\n",
    "    loss   = sample[[f'loss {i}' for i in range(1, n_repetitions+1)]].to_numpy()\n",
    "    accy   = sample[[f'accuracy {i}' for i in range(1, n_repetitions+1)]].to_numpy()\n",
    "\n",
    "    losses[:, i] = loss\n",
    "    accurs[:, i] = accy\n",
    "\n",
    "fig,ax=plt.subplots(2,1,figsize=(4,4),dpi=120,sharex=True)\n",
    "\n",
    "ax[0].boxplot(accurs, labels=[512,1024,2048,4096])\n",
    "ax[1].boxplot(losses, labels=[512,1024,2048,4096])\n",
    "\n",
    "ax[0].set_ylabel('Accuracy')\n",
    "ax[1].set_ylabel('Loss')\n",
    "ax[1].set_xlabel('Number of artificial neurons')\n",
    "fig.align_ylabels()\n",
    "plt.tight_layout()\n"
   ]
  },
  {
   "cell_type": "code",
   "execution_count": 15,
   "metadata": {
    "id": "WJakFAknziv0"
   },
   "outputs": [
    {
     "name": "stderr",
     "output_type": "stream",
     "text": [
      "/tmp/ipykernel_30482/909130748.py:14: MatplotlibDeprecationWarning: The 'labels' parameter of boxplot() has been renamed 'tick_labels' since Matplotlib 3.9; support for the old name will be dropped in 3.11.\n",
      "  ax[0].boxplot(accurs, labels=[1, 2, 3])\n",
      "/tmp/ipykernel_30482/909130748.py:15: MatplotlibDeprecationWarning: The 'labels' parameter of boxplot() has been renamed 'tick_labels' since Matplotlib 3.9; support for the old name will be dropped in 3.11.\n",
      "  ax[1].boxplot(losses, labels=[1, 2, 3])\n"
     ]
    },
    {
     "data": {
      "image/png": "[encoded data removed]",
      "text/plain": [
       "<Figure size 480x480 with 2 Axes>"
      ]
     },
     "metadata": {},
     "output_type": "display_data"
    }
   ],
   "source": [
    "losses = np.zeros((n_repetitions, 3))\n",
    "accurs = np.zeros((n_repetitions, 3))\n",
    "\n",
    "for i, n_layers in enumerate([1,2,3]):\n",
    "    sample = df[(df['n_neurons'] == 512) & (df['n_layers'] == n_layers)& (df['dropout'] == 0.25) & (df['optimizer'] == 'adam') & (df['epochs'] == 5)]\n",
    "    loss   = sample[[f'loss {i}' for i in  range(1, n_repetitions+1)]].to_numpy()\n",
    "    accy   = sample[[f'accuracy {i}' for i in  range(1, n_repetitions+1)]].to_numpy()\n",
    "\n",
    "    losses[:, i] = loss\n",
    "    accurs[:, i] = accy\n",
    "\n",
    "fig,ax=plt.subplots(2,1,figsize=(4,4),dpi=120,sharex=True)\n",
    "\n",
    "ax[0].boxplot(accurs, labels=[1, 2, 3])\n",
    "ax[1].boxplot(losses, labels=[1, 2, 3])\n",
    "\n",
    "ax[0].set_ylabel('Accuracy')\n",
    "ax[1].set_ylabel('Loss')\n",
    "ax[1].set_xlabel('Number of hidden layers')\n",
    "fig.align_ylabels()\n",
    "plt.tight_layout()"
   ]
  },
  {
   "cell_type": "code",
   "execution_count": 16,
   "metadata": {
    "id": "LhGykygaz5dm"
   },
   "outputs": [
    {
     "name": "stderr",
     "output_type": "stream",
     "text": [
      "/tmp/ipykernel_30482/1700886018.py:14: MatplotlibDeprecationWarning: The 'labels' parameter of boxplot() has been renamed 'tick_labels' since Matplotlib 3.9; support for the old name will be dropped in 3.11.\n",
      "  ax[0].boxplot(accurs, labels=[0,0.25,0.5])\n",
      "/tmp/ipykernel_30482/1700886018.py:15: MatplotlibDeprecationWarning: The 'labels' parameter of boxplot() has been renamed 'tick_labels' since Matplotlib 3.9; support for the old name will be dropped in 3.11.\n",
      "  ax[1].boxplot(losses, labels=[0,0.25,0.5])\n"
     ]
    },
    {
     "data": {
      "image/png": "[encoded data removed]",
      "text/plain": [
       "<Figure size 480x480 with 2 Axes>"
      ]
     },
     "metadata": {},
     "output_type": "display_data"
    }
   ],
   "source": [
    "losses = np.zeros((n_repetitions, 3))\n",
    "accurs = np.zeros((n_repetitions, 3))\n",
    "\n",
    "for i, dropout in enumerate([0, 0.25, 0.5]):\n",
    "    sample = df[(df['n_neurons'] == 512) & (df['n_layers'] == 1)& (df['dropout'] == dropout) & (df['optimizer'] == 'adam') & (df['epochs'] == 5)]\n",
    "    loss   = sample[[f'loss {i}' for i in  range(1, n_repetitions+1)]].to_numpy()\n",
    "    accy   = sample[[f'accuracy {i}' for i in  range(1, n_repetitions+1)]].to_numpy()\n",
    "\n",
    "    losses[:, i] = loss\n",
    "    accurs[:, i] = accy\n",
    "\n",
    "fig,ax=plt.subplots(2,1,figsize=(4,4),dpi=120,sharex=True)\n",
    "\n",
    "ax[0].boxplot(accurs, labels=[0,0.25,0.5])\n",
    "ax[1].boxplot(losses, labels=[0,0.25,0.5])\n",
    "\n",
    "ax[0].set_ylabel('Accuracy')\n",
    "ax[1].set_ylabel('Loss')\n",
    "ax[1].set_xlabel('Dropout')\n",
    "fig.align_ylabels()\n",
    "plt.tight_layout()"
   ]
  },
  {
   "cell_type": "code",
   "execution_count": 17,
   "metadata": {
    "id": "4OKePqKW0UPU"
   },
   "outputs": [
    {
     "name": "stderr",
     "output_type": "stream",
     "text": [
      "/tmp/ipykernel_30482/675075093.py:14: MatplotlibDeprecationWarning: The 'labels' parameter of boxplot() has been renamed 'tick_labels' since Matplotlib 3.9; support for the old name will be dropped in 3.11.\n",
      "  ax[0].boxplot(accurs, labels=['adam','SGD','RMSprop'])\n",
      "/tmp/ipykernel_30482/675075093.py:15: MatplotlibDeprecationWarning: The 'labels' parameter of boxplot() has been renamed 'tick_labels' since Matplotlib 3.9; support for the old name will be dropped in 3.11.\n",
      "  ax[1].boxplot(losses, labels=['adam','SGD','RMSprop'])\n"
     ]
    },
    {
     "data": {
      "image/png": "[encoded data removed]",
      "text/plain": [
       "<Figure size 480x480 with 2 Axes>"
      ]
     },
     "metadata": {},
     "output_type": "display_data"
    }
   ],
   "source": [
    "losses = np.zeros((n_repetitions, 3))\n",
    "accurs = np.zeros((n_repetitions, 3))\n",
    "\n",
    "for i, optimizer in enumerate(['adam','SGD','RMSprop']):\n",
    "    sample = df[(df['n_neurons'] == 512) & (df['n_layers'] == 1)& (df['dropout'] == 0.25) & (df['optimizer'] == optimizer) & (df['epochs'] == 5)]\n",
    "    loss   = sample[[f'loss {i}' for i in  range(1, n_repetitions+1)]].to_numpy()\n",
    "    accy   = sample[[f'accuracy {i}' for i in  range(1, n_repetitions+1)]].to_numpy()\n",
    "\n",
    "    losses[:, i] = loss\n",
    "    accurs[:, i] = accy\n",
    "\n",
    "fig,ax=plt.subplots(2,1,figsize=(4,4),dpi=120,sharex=True)\n",
    "\n",
    "ax[0].boxplot(accurs, labels=['adam','SGD','RMSprop'])\n",
    "ax[1].boxplot(losses, labels=['adam','SGD','RMSprop'])\n",
    "\n",
    "ax[0].set_ylabel('Accuracy')\n",
    "ax[1].set_ylabel('Loss')\n",
    "ax[1].set_xlabel('Optimizer')\n",
    "fig.align_ylabels()\n",
    "plt.tight_layout()"
   ]
  },
  {
   "cell_type": "code",
   "execution_count": 18,
   "metadata": {
    "id": "H7k3KTdi1Iil"
   },
   "outputs": [
    {
     "name": "stderr",
     "output_type": "stream",
     "text": [
      "/tmp/ipykernel_30482/1641233257.py:14: MatplotlibDeprecationWarning: The 'labels' parameter of boxplot() has been renamed 'tick_labels' since Matplotlib 3.9; support for the old name will be dropped in 3.11.\n",
      "  ax[0].boxplot(accurs, labels=[5,10,20,30])\n",
      "/tmp/ipykernel_30482/1641233257.py:15: MatplotlibDeprecationWarning: The 'labels' parameter of boxplot() has been renamed 'tick_labels' since Matplotlib 3.9; support for the old name will be dropped in 3.11.\n",
      "  ax[1].boxplot(losses, labels=[5,10,20,30])\n"
     ]
    },
    {
     "data": {
      "image/png": "[encoded data removed]",
      "text/plain": [
       "<Figure size 480x480 with 2 Axes>"
      ]
     },
     "metadata": {},
     "output_type": "display_data"
    }
   ],
   "source": [
    "losses = np.zeros((n_repetitions, 4))\n",
    "accurs = np.zeros((n_repetitions, 4))\n",
    "\n",
    "for i, epochs in enumerate([5,10,20,30]):\n",
    "    sample = df[(df['n_neurons'] == 512) & (df['n_layers'] == 1)& (df['dropout'] == 0.25) & (df['optimizer'] == 'adam') & (df['epochs'] == epochs)]\n",
    "    loss   = sample[[f'loss {i}' for i in  range(1, n_repetitions+1)]].to_numpy()\n",
    "    accy   = sample[[f'accuracy {i}' for i in  range(1, n_repetitions+1)]].to_numpy()\n",
    "\n",
    "    losses[:, i] = loss\n",
    "    accurs[:, i] = accy\n",
    "\n",
    "fig,ax=plt.subplots(2,1,figsize=(4,4),dpi=120,sharex=True)\n",
    "\n",
    "ax[0].boxplot(accurs, labels=[5,10,20,30])\n",
    "ax[1].boxplot(losses, labels=[5,10,20,30])\n",
    "\n",
    "ax[0].set_ylabel('Accuracy')\n",
    "ax[1].set_ylabel('Loss')\n",
    "ax[1].set_xlabel('Epochs')\n",
    "fig.align_ylabels()\n",
    "plt.tight_layout()"
   ]
  },
  {
   "cell_type": "code",
   "execution_count": null,
   "metadata": {},
   "outputs": [],
   "source": [
    "# Please, insert the values obtained by the simplified grid search here and execute the code\n",
    "d = model_and_evaluate(n_neurons=???,\n",
    "                       n_layers=???,\n",
    "                       dropout=???,\n",
    "                       optimizer='???',\n",
    "                       epochs=???)"
   ]
  }
 ],
 "metadata": {
  "accelerator": "GPU",
  "colab": {
   "gpuType": "T4",
   "provenance": []
  },
  "gpuClass": "standard",
  "kernelspec": {
   "display_name": "Python 3 (ipykernel)",
   "language": "python",
   "name": "python3"
  },
  "language_info": {
   "codemirror_mode": {
    "name": "ipython",
    "version": 3
   },
   "file_extension": ".py",
   "mimetype": "text/x-python",
   "name": "python",
   "nbconvert_exporter": "python",
   "pygments_lexer": "ipython3",
   "version": "3.12.3"
  },
  "vscode": {
   "interpreter": {
    "hash": "916dbcbb3f70747c44a77c7bcd40155683ae19c65e1c03b4aa3499c5328201f1"
   }
  }
 },
 "nbformat": 4,
 "nbformat_minor": 1
}

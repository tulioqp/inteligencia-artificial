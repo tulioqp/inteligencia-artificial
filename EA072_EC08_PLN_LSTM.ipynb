{
 "cells": [
  {
   "cell_type": "markdown",
   "metadata": {
    "id": "XP2x0pxJ9uJK"
   },
   "source": [
    "## **Notebook EC#08**\n",
    "## Encoder-Decoder LSTM for Natural Language Processing.\n",
    "\n",
    "#### Este notebook está baseado no material presente em Brownlee, J. “Long Short-Term Memory Networks With Python – Develop Sequence Prediction Models With Deep Learning”, Machine Learning Mastery, 2017, mais especificamente no [Chapter 9].\n",
    "\n",
    "**Professor:** Fernando J. Von Zuben <br>\n",
    "**Aluno(a):** Túlio Queiroz de Paula\n"
   ]
  },
  {
   "cell_type": "code",
   "execution_count": 24,
   "metadata": {
    "id": "1xumdIFHDdrn"
   },
   "outputs": [],
   "source": [
    "import warnings\n",
    "warnings.filterwarnings('ignore')\n",
    "\n",
    "from random import seed\n",
    "from random import randint\n",
    "from numpy import array\n",
    "from numpy import argmax"
   ]
  },
  {
   "cell_type": "code",
   "execution_count": 25,
   "metadata": {
    "id": "fspvFmS6Ddro"
   },
   "outputs": [],
   "source": [
    "def random_sum_pairs(n_examples, n_numbers, largest):\n",
    "    X,y = list(), list()\n",
    "    for i in range(n_examples):\n",
    "        in_pattern=[randint(1,largest) for _ in range(n_numbers)]\n",
    "        out_pattern = sum(in_pattern)\n",
    "        X.append(in_pattern)\n",
    "        y.append(out_pattern)\n",
    "    return X,y"
   ]
  },
  {
   "cell_type": "code",
   "execution_count": 26,
   "metadata": {
    "id": "zzr9HXh8Ddrp"
   },
   "outputs": [
    {
     "name": "stdout",
     "output_type": "stream",
     "text": [
      "[[3, 10]] [13]\n"
     ]
    }
   ],
   "source": [
    "seed(1)\n",
    "n_samples = 1\n",
    "n_numbers = 2\n",
    "largest = 10\n",
    "X,y = random_sum_pairs(n_samples, n_numbers, largest)\n",
    "print(X,y)"
   ]
  },
  {
   "cell_type": "code",
   "execution_count": 27,
   "metadata": {
    "id": "QWTgrmmuDdrp"
   },
   "outputs": [],
   "source": [
    "from math import ceil\n",
    "from math import log10"
   ]
  },
  {
   "cell_type": "code",
   "execution_count": 28,
   "metadata": {
    "id": "NbBlwQTvDdrp"
   },
   "outputs": [],
   "source": [
    "def to_string(X,y,n_numbers,largest):\n",
    "    max_length = n_numbers*ceil(log10(largest+1)) + n_numbers - 1\n",
    "    Xstr = list()\n",
    "    for pattern in X:\n",
    "        strp = '+'.join([str(n) for n in pattern])\n",
    "        strp = ''.join([' ' for _ in range(max_length-len(strp))]) + strp\n",
    "        Xstr.append(strp)\n",
    "    maxlength = ceil(log10(n_numbers*(largest+1)))\n",
    "    ystr = list()\n",
    "    for pattern in y:\n",
    "        strp = str(pattern)\n",
    "        strp = ''.join([' 'for _ in range(maxlength-len(strp))]) + strp\n",
    "        ystr.append(strp)\n",
    "    return Xstr, ystr"
   ]
  },
  {
   "cell_type": "code",
   "execution_count": 29,
   "metadata": {
    "id": "fAVqEpSsDdrq"
   },
   "outputs": [],
   "source": [
    "seed(1)\n",
    "n_samples = 1\n",
    "n_numbers = 2\n",
    "largest = 10"
   ]
  },
  {
   "cell_type": "code",
   "execution_count": 30,
   "metadata": {
    "id": "u-m3UD5uDdrq"
   },
   "outputs": [
    {
     "name": "stdout",
     "output_type": "stream",
     "text": [
      "[[3, 10]] [13]\n",
      "[' 3+10'] ['13']\n"
     ]
    }
   ],
   "source": [
    "X,y = random_sum_pairs(n_samples, n_numbers, largest)\n",
    "print(X,y)\n",
    "\n",
    "X,y = to_string(X,y,n_numbers,largest)\n",
    "print(X,y)"
   ]
  },
  {
   "cell_type": "code",
   "execution_count": 31,
   "metadata": {
    "id": "qwQXLtpfDdrq"
   },
   "outputs": [],
   "source": [
    "alphabet = ['0','1','2','3','4','5','6','7','8','9','+',' ']"
   ]
  },
  {
   "cell_type": "code",
   "execution_count": 32,
   "metadata": {
    "id": "GXKcXm8JDdrq"
   },
   "outputs": [],
   "source": [
    "def integer_encode(X,y,alphabet):\n",
    "    char_to_int = dict((c,i) for i,c in enumerate(alphabet))\n",
    "    Xenc = list()\n",
    "    for pattern in X:\n",
    "        integer_encoded = [char_to_int[char] for char in pattern]\n",
    "        Xenc.append(integer_encoded)\n",
    "    yenc = list()\n",
    "    for pattern in y:\n",
    "        integer_encoded = [char_to_int[char] for char in pattern]\n",
    "        yenc.append(integer_encoded)\n",
    "    return Xenc, yenc"
   ]
  },
  {
   "cell_type": "code",
   "execution_count": 33,
   "metadata": {
    "id": "BjD9y1M2Ddrr"
   },
   "outputs": [],
   "source": [
    "X,y = integer_encode(X,y,alphabet)"
   ]
  },
  {
   "cell_type": "code",
   "execution_count": 34,
   "metadata": {
    "id": "v02pwsYYDdrr"
   },
   "outputs": [
    {
     "name": "stdout",
     "output_type": "stream",
     "text": [
      "[[11, 3, 10, 1, 0]] [[1, 3]]\n"
     ]
    }
   ],
   "source": [
    "print(X,y)"
   ]
  },
  {
   "cell_type": "code",
   "execution_count": 35,
   "metadata": {
    "id": "vad64QkqDdrr"
   },
   "outputs": [],
   "source": [
    "def one_hot_encode(X,y,max_int):\n",
    "    Xenc = list()\n",
    "    for seq in X:\n",
    "        pattern = list()\n",
    "        for index in seq:\n",
    "            vector = [0 for _ in range(max_int)]\n",
    "            vector[index] = 1\n",
    "            pattern.append(vector)\n",
    "        Xenc.append(pattern)\n",
    "\n",
    "    yenc = list()\n",
    "    for seq in y:\n",
    "        pattern = list()\n",
    "        for index in seq:\n",
    "            vector = [0 for _ in range(max_int)]\n",
    "            vector[index] = 1\n",
    "            pattern.append(vector)\n",
    "        yenc.append(pattern)\n",
    "    return Xenc, yenc"
   ]
  },
  {
   "cell_type": "code",
   "execution_count": 36,
   "metadata": {
    "id": "W_tCfgMPDdrr"
   },
   "outputs": [],
   "source": [
    "X,y = one_hot_encode(X,y,len(alphabet))"
   ]
  },
  {
   "cell_type": "code",
   "execution_count": 37,
   "metadata": {
    "id": "R7VdCFIgDdrr"
   },
   "outputs": [
    {
     "name": "stdout",
     "output_type": "stream",
     "text": [
      "[[[0, 0, 0, 0, 0, 0, 0, 0, 0, 0, 0, 1], [0, 0, 0, 1, 0, 0, 0, 0, 0, 0, 0, 0], [0, 0, 0, 0, 0, 0, 0, 0, 0, 0, 1, 0], [0, 1, 0, 0, 0, 0, 0, 0, 0, 0, 0, 0], [1, 0, 0, 0, 0, 0, 0, 0, 0, 0, 0, 0]]] [[[0, 1, 0, 0, 0, 0, 0, 0, 0, 0, 0, 0], [0, 0, 0, 1, 0, 0, 0, 0, 0, 0, 0, 0]]]\n"
     ]
    }
   ],
   "source": [
    "print(X,y)"
   ]
  },
  {
   "cell_type": "code",
   "execution_count": 38,
   "metadata": {
    "id": "xVdn4BqyDdrs"
   },
   "outputs": [],
   "source": [
    "def generate_data(n_samples,n_numbers, largest, alphabet):\n",
    "    X,y = random_sum_pairs(n_samples,n_numbers,largest)\n",
    "    X,y = to_string(X,y,n_numbers,largest)\n",
    "    X,y = integer_encode(X,y,alphabet)\n",
    "    X,y = one_hot_encode(X,y,len(alphabet))\n",
    "    X,y = array(X), array(y)\n",
    "    return X,y"
   ]
  },
  {
   "cell_type": "markdown",
   "metadata": {
    "id": "AFG7ATcTBqlS"
   },
   "source": [
    "<font color=\"green\">\n",
    "Atividade (a) <br>\n",
    "Explique, passo-a-passo, todas as etapas envolvidas na concepção dos dados de treinamento.\n",
    "</font>"
   ]
  },
  {
   "cell_type": "markdown",
   "metadata": {
    "id": "uHu9yWEOBqlT"
   },
   "source": [
    "**Resposta:**<br>\n",
    "As primeiras funções servem para gerar uma lista de números pseudo-aleatórios e computar a soma dos mesmos em uma outra lista. Em seguida, a função <i>to_string()</i> irá unir os dígitos com o símbolo '+' e converter tudo para string, considerando o tamanho necessário para representar <i>largest</i> (através de <i>ceil(log10(largest+1))</i>) e padronizando todas as strings para o mesmo tamanho (adicionando espaços em branco quando necessário). Após esse processo, temos vetores de strings com a operação de adição associados a vetores de strings com o resultado dessa soma. Prosseguindo, precisa-se definir o universo de símbolos que estão disponíveis para serem utilizados. Temos, portanto, <i>alphabet</i> como alfabeto que contempla todos os símbolos em questão. Por fim, cada símbolo deve ser mapeado em um vetor one-hot-encoded que representará a informação do mesmo - vetor de zeros com '1' na posição correspondente ao símbolo em <i>alphabet</i>"
   ]
  },
  {
   "cell_type": "code",
   "execution_count": 39,
   "metadata": {
    "id": "RDp9JqNkDdrs"
   },
   "outputs": [],
   "source": [
    "def invert(seq,alphabet):\n",
    "    int_to_char = dict((i,c) for i,c in enumerate(alphabet))\n",
    "    strings  = list()\n",
    "    for pattern in seq:\n",
    "        string = int_to_char[argmax(pattern)]\n",
    "        strings.append(string)\n",
    "    return ''.join(strings)"
   ]
  },
  {
   "cell_type": "code",
   "execution_count": 40,
   "metadata": {
    "id": "7BqRNPCkDdrs"
   },
   "outputs": [],
   "source": [
    "n_terms = 3\n",
    "largest = 10\n",
    "alphabet = [str(x) for x in range(10)] + ['+', ' ']"
   ]
  },
  {
   "cell_type": "code",
   "execution_count": 41,
   "metadata": {
    "id": "PijAMEFxDdrs"
   },
   "outputs": [],
   "source": [
    "n_chars = len(alphabet)\n",
    "n_in_seq_length = n_terms*ceil(log10(largest+1)) +n_terms-1\n",
    "n_out_seq_length = ceil(log10(n_terms*(largest+1)))"
   ]
  },
  {
   "cell_type": "code",
   "execution_count": 42,
   "metadata": {
    "id": "RR9pPe1oDdrs"
   },
   "outputs": [],
   "source": [
    "from keras.models import Sequential\n",
    "from keras.layers import LSTM\n",
    "from keras.layers import RepeatVector\n",
    "from keras.layers import TimeDistributed\n",
    "from keras.layers import Dense"
   ]
  },
  {
   "cell_type": "code",
   "execution_count": 43,
   "metadata": {
    "id": "Gxs5FSIwDdrs"
   },
   "outputs": [
    {
     "data": {
      "text/html": [
       "<pre style=\"white-space:pre;overflow-x:auto;line-height:normal;font-family:Menlo,'DejaVu Sans Mono',consolas,'Courier New',monospace\"><span style=\"font-weight: bold\">Model: \"sequential_1\"</span>\n",
       "</pre>\n"
      ],
      "text/plain": [
       "\u001b[1mModel: \"sequential_1\"\u001b[0m\n"
      ]
     },
     "metadata": {},
     "output_type": "display_data"
    },
    {
     "data": {
      "text/html": [
       "<pre style=\"white-space:pre;overflow-x:auto;line-height:normal;font-family:Menlo,'DejaVu Sans Mono',consolas,'Courier New',monospace\">┏━━━━━━━━━━━━━━━━━━━━━━━━━━━━━━━━━┳━━━━━━━━━━━━━━━━━━━━━━━━┳━━━━━━━━━━━━━━━┓\n",
       "┃<span style=\"font-weight: bold\"> Layer (type)                    </span>┃<span style=\"font-weight: bold\"> Output Shape           </span>┃<span style=\"font-weight: bold\">       Param # </span>┃\n",
       "┡━━━━━━━━━━━━━━━━━━━━━━━━━━━━━━━━━╇━━━━━━━━━━━━━━━━━━━━━━━━╇━━━━━━━━━━━━━━━┩\n",
       "│ lstm_2 (<span style=\"color: #0087ff; text-decoration-color: #0087ff\">LSTM</span>)                   │ (<span style=\"color: #00d7ff; text-decoration-color: #00d7ff\">None</span>, <span style=\"color: #00af00; text-decoration-color: #00af00\">75</span>)             │        <span style=\"color: #00af00; text-decoration-color: #00af00\">26,400</span> │\n",
       "├─────────────────────────────────┼────────────────────────┼───────────────┤\n",
       "│ repeat_vector_1 (<span style=\"color: #0087ff; text-decoration-color: #0087ff\">RepeatVector</span>)  │ (<span style=\"color: #00d7ff; text-decoration-color: #00d7ff\">None</span>, <span style=\"color: #00af00; text-decoration-color: #00af00\">2</span>, <span style=\"color: #00af00; text-decoration-color: #00af00\">75</span>)          │             <span style=\"color: #00af00; text-decoration-color: #00af00\">0</span> │\n",
       "├─────────────────────────────────┼────────────────────────┼───────────────┤\n",
       "│ lstm_3 (<span style=\"color: #0087ff; text-decoration-color: #0087ff\">LSTM</span>)                   │ (<span style=\"color: #00d7ff; text-decoration-color: #00d7ff\">None</span>, <span style=\"color: #00af00; text-decoration-color: #00af00\">2</span>, <span style=\"color: #00af00; text-decoration-color: #00af00\">50</span>)          │        <span style=\"color: #00af00; text-decoration-color: #00af00\">25,200</span> │\n",
       "├─────────────────────────────────┼────────────────────────┼───────────────┤\n",
       "│ time_distributed_1              │ (<span style=\"color: #00d7ff; text-decoration-color: #00d7ff\">None</span>, <span style=\"color: #00af00; text-decoration-color: #00af00\">2</span>, <span style=\"color: #00af00; text-decoration-color: #00af00\">12</span>)          │           <span style=\"color: #00af00; text-decoration-color: #00af00\">612</span> │\n",
       "│ (<span style=\"color: #0087ff; text-decoration-color: #0087ff\">TimeDistributed</span>)               │                        │               │\n",
       "└─────────────────────────────────┴────────────────────────┴───────────────┘\n",
       "</pre>\n"
      ],
      "text/plain": [
       "┏━━━━━━━━━━━━━━━━━━━━━━━━━━━━━━━━━┳━━━━━━━━━━━━━━━━━━━━━━━━┳━━━━━━━━━━━━━━━┓\n",
       "┃\u001b[1m \u001b[0m\u001b[1mLayer (type)                   \u001b[0m\u001b[1m \u001b[0m┃\u001b[1m \u001b[0m\u001b[1mOutput Shape          \u001b[0m\u001b[1m \u001b[0m┃\u001b[1m \u001b[0m\u001b[1m      Param #\u001b[0m\u001b[1m \u001b[0m┃\n",
       "┡━━━━━━━━━━━━━━━━━━━━━━━━━━━━━━━━━╇━━━━━━━━━━━━━━━━━━━━━━━━╇━━━━━━━━━━━━━━━┩\n",
       "│ lstm_2 (\u001b[38;5;33mLSTM\u001b[0m)                   │ (\u001b[38;5;45mNone\u001b[0m, \u001b[38;5;34m75\u001b[0m)             │        \u001b[38;5;34m26,400\u001b[0m │\n",
       "├─────────────────────────────────┼────────────────────────┼───────────────┤\n",
       "│ repeat_vector_1 (\u001b[38;5;33mRepeatVector\u001b[0m)  │ (\u001b[38;5;45mNone\u001b[0m, \u001b[38;5;34m2\u001b[0m, \u001b[38;5;34m75\u001b[0m)          │             \u001b[38;5;34m0\u001b[0m │\n",
       "├─────────────────────────────────┼────────────────────────┼───────────────┤\n",
       "│ lstm_3 (\u001b[38;5;33mLSTM\u001b[0m)                   │ (\u001b[38;5;45mNone\u001b[0m, \u001b[38;5;34m2\u001b[0m, \u001b[38;5;34m50\u001b[0m)          │        \u001b[38;5;34m25,200\u001b[0m │\n",
       "├─────────────────────────────────┼────────────────────────┼───────────────┤\n",
       "│ time_distributed_1              │ (\u001b[38;5;45mNone\u001b[0m, \u001b[38;5;34m2\u001b[0m, \u001b[38;5;34m12\u001b[0m)          │           \u001b[38;5;34m612\u001b[0m │\n",
       "│ (\u001b[38;5;33mTimeDistributed\u001b[0m)               │                        │               │\n",
       "└─────────────────────────────────┴────────────────────────┴───────────────┘\n"
      ]
     },
     "metadata": {},
     "output_type": "display_data"
    },
    {
     "data": {
      "text/html": [
       "<pre style=\"white-space:pre;overflow-x:auto;line-height:normal;font-family:Menlo,'DejaVu Sans Mono',consolas,'Courier New',monospace\"><span style=\"font-weight: bold\"> Total params: </span><span style=\"color: #00af00; text-decoration-color: #00af00\">52,212</span> (203.95 KB)\n",
       "</pre>\n"
      ],
      "text/plain": [
       "\u001b[1m Total params: \u001b[0m\u001b[38;5;34m52,212\u001b[0m (203.95 KB)\n"
      ]
     },
     "metadata": {},
     "output_type": "display_data"
    },
    {
     "data": {
      "text/html": [
       "<pre style=\"white-space:pre;overflow-x:auto;line-height:normal;font-family:Menlo,'DejaVu Sans Mono',consolas,'Courier New',monospace\"><span style=\"font-weight: bold\"> Trainable params: </span><span style=\"color: #00af00; text-decoration-color: #00af00\">52,212</span> (203.95 KB)\n",
       "</pre>\n"
      ],
      "text/plain": [
       "\u001b[1m Trainable params: \u001b[0m\u001b[38;5;34m52,212\u001b[0m (203.95 KB)\n"
      ]
     },
     "metadata": {},
     "output_type": "display_data"
    },
    {
     "data": {
      "text/html": [
       "<pre style=\"white-space:pre;overflow-x:auto;line-height:normal;font-family:Menlo,'DejaVu Sans Mono',consolas,'Courier New',monospace\"><span style=\"font-weight: bold\"> Non-trainable params: </span><span style=\"color: #00af00; text-decoration-color: #00af00\">0</span> (0.00 B)\n",
       "</pre>\n"
      ],
      "text/plain": [
       "\u001b[1m Non-trainable params: \u001b[0m\u001b[38;5;34m0\u001b[0m (0.00 B)\n"
      ]
     },
     "metadata": {},
     "output_type": "display_data"
    },
    {
     "name": "stdout",
     "output_type": "stream",
     "text": [
      "None\n"
     ]
    }
   ],
   "source": [
    "model = Sequential()\n",
    "model.add(LSTM(75, input_shape=(n_in_seq_length,n_chars)))\n",
    "model.add(RepeatVector(n_out_seq_length))\n",
    "model.add(LSTM(50,return_sequences=True))\n",
    "model.add(TimeDistributed(Dense(n_chars,activation='softmax')))\n",
    "model.compile(loss='categorical_crossentropy',optimizer='adam',metrics=['accuracy'])\n",
    "print(model.summary())"
   ]
  },
  {
   "cell_type": "code",
   "execution_count": 44,
   "metadata": {
    "id": "vG1QwiwFDdrt"
   },
   "outputs": [
    {
     "name": "stdout",
     "output_type": "stream",
     "text": [
      "\u001b[1m7500/7500\u001b[0m \u001b[32m━━━━━━━━━━━━━━━━━━━━\u001b[0m\u001b[37m\u001b[0m \u001b[1m21s\u001b[0m 3ms/step - accuracy: 0.7330 - loss: 0.8193\n"
     ]
    },
    {
     "data": {
      "text/plain": [
       "<keras.src.callbacks.history.History at 0x7f298c37f3e0>"
      ]
     },
     "execution_count": 44,
     "metadata": {},
     "output_type": "execute_result"
    }
   ],
   "source": [
    "X,y = generate_data(75000,n_terms,largest,alphabet)\n",
    "model.fit(X,y,epochs=1,batch_size=10)"
   ]
  },
  {
   "cell_type": "code",
   "execution_count": 45,
   "metadata": {
    "id": "pBWMp85oDdrt"
   },
   "outputs": [
    {
     "name": "stdout",
     "output_type": "stream",
     "text": [
      "Loss: 0.034685, Accuracy: 99.500000\n"
     ]
    }
   ],
   "source": [
    "X,y = generate_data(100,n_terms,largest,alphabet)\n",
    "loss,acc = model.evaluate(X,y,verbose=0)\n",
    "print('Loss: %f, Accuracy: %f' %(loss,acc*100))"
   ]
  },
  {
   "cell_type": "code",
   "execution_count": 46,
   "metadata": {
    "id": "XjorRbDxDdrt"
   },
   "outputs": [
    {
     "name": "stdout",
     "output_type": "stream",
     "text": [
      "  5+2+10 = 17 (expect 17)\n",
      "   6+4+5 = 15 (expect 15)\n",
      "   9+2+2 = 13 (expect 13)\n",
      "  4+10+7 = 21 (expect 21)\n",
      " 10+10+2 = 22 (expect 22)\n",
      "   3+8+4 = 15 (expect 15)\n",
      "   1+8+1 = 10 (expect 10)\n",
      "   3+5+9 = 17 (expect 17)\n",
      "   6+1+5 = 12 (expect 12)\n",
      "   8+2+2 = 12 (expect 12)\n"
     ]
    }
   ],
   "source": [
    "for _ in range(10):\n",
    "    X,y = generate_data(1,n_terms,largest,alphabet)\n",
    "    yhat = model.predict(X,verbose=0)\n",
    "    in_seq = invert(X[0],alphabet)\n",
    "    out_seq = invert(y[0],alphabet)\n",
    "    predicted = invert(yhat[0],alphabet)\n",
    "    print('%s = %s (expect %s)' %(in_seq,predicted,out_seq))"
   ]
  },
  {
   "cell_type": "markdown",
   "metadata": {
    "id": "mulXq9ZZKkX5"
   },
   "source": [
    "<font color=\"green\">\n",
    "Atividade (b) <br>\n",
    "Explique como uma calculadora simples pode operar baseada no conceito de tradução de frases, ou seja, sem realizar operações algébricas.\n",
    "</font>"
   ]
  },
  {
   "cell_type": "markdown",
   "metadata": {
    "id": "BGsvW_2eTpfB"
   },
   "source": [
    "**Resposta:** <br>\n",
    "Como nesse notebook, em um cenário que temos um conjunto finito (e pequeno) de números limitados por um máximo e apenas um símbolo de operação ('+'), é razoavelmente simples implementar uma calculadora baseada em regras, pois basta seguir o procedimento feito: cria-se um código, ou seja, uma lista de símbolos que transmitirão as informações - no exemplo desse notebook, símbolos de 0 a 9, ' ' e +. <br>Quando temos como entrada os vetores one-hot-encoded [11] (veja como [0, 0, 0, 0, 0, 0, 0, 0, 0, 0, 1]), [3], [10], [1], [0] que representam \" 3+10\" e que, por sua vez, representa a operação 3+10, a \"calculadora\" foi treinada para associar tais vetores aos vetores one-hot-encoded [1], [3], que por sua vez representam \"13\", o qual equivale ao resultado da adição desejada. <br> Com um conjunto de códigos (um alfabeto suficientemente abrangente) e dados em quantidade adequada para treinamento, é possível expandir esse procedimento para outras operações, bastando treinar o algoritmo para reconhecer os novos símbolos ('*', '/', '-', etc.) juntamente com os demais símbolos já existentes. O \"livro de regras\" do algoritmo será ampliado para cobrir os novos casos e os \"cálculos\" serão realizados associando os vetores que representam os valores de entrada com os vetores - mapeados durante o treinamento - que representam a resposta."
   ]
  },
  {
   "cell_type": "markdown",
   "metadata": {
    "id": "qJowKm1dCRHB"
   },
   "source": [
    "<font color=\"green\">\n",
    "Atividade (c) <br>\n",
    "Procure associar este experimento com o cenário da sala chinesa de Searle.\n",
    "</font>"
   ]
  },
  {
   "cell_type": "markdown",
   "metadata": {
    "id": "r8Wf9yOHCRHO"
   },
   "source": [
    "**Resposta:**<br>\n",
    "A associação mais relevante advém do fato de que tanto o operador da sala chinesa quanto o algoritmo não compreendem o significado do que estão fazendo. O operador **não** está traduzindo as sentenças que recebe, pois ao traduzir uma frase, pressupõe-se compreensão - traduz-se frases justamente com o intuito de compreendê-las. O operador recebeu um código, um livro de regras (em seu idioma, ou seja, o operador compreende **as regras**) que dita apenas quais elementos do código desconhecido devem ser associados para responder a sentença recebida de forma adequada. O experimento desse notebook, por sua vez, não resolve operações matemáticas implementando de fato as operações. O algoritmo recebe regras (conjunto de dados de treinamento) que indicarão a resposta adequada quando tais símbolos de entrada aparecerem novamente. Pode-se fazer, por exemplo, uma operação \"a + / = 8\", basta que exista um \"alfabeto\" que cubra todos esses símbolos e dados de treinamento que informem ao algoritmo: <br> <br>\n",
    "<i> \"Ao receber os vetores que representam os símbolos \"a+/\", responda com o vetor que representa o símbolo \"8\"</i>  <br> <br>Assim, fica evidente que não há uma compreensão do que está sendo feito - não há nenhum sentido matemático a expressão \"a + /\" e em uma calculadora tradicional resultaria em erro -, apenas uma associação de símbolos dado um conjunto de regras (dados de treinamento)."
   ]
  }
 ],
 "metadata": {
  "colab": {
   "provenance": []
  },
  "kernelspec": {
   "display_name": "Python 3 (ipykernel)",
   "language": "python",
   "name": "python3"
  },
  "language_info": {
   "codemirror_mode": {
    "name": "ipython",
    "version": 3
   },
   "file_extension": ".py",
   "mimetype": "text/x-python",
   "name": "python",
   "nbconvert_exporter": "python",
   "pygments_lexer": "ipython3",
   "version": "3.12.3"
  }
 },
 "nbformat": 4,
 "nbformat_minor": 1
}
